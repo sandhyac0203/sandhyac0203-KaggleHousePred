{
 "cells": [
  {
   "cell_type": "code",
   "execution_count": 1,
   "metadata": {},
   "outputs": [],
   "source": [
    "# Import necessary libraries\n",
    "\n",
    "import pandas as pd\n",
    "import numpy as np\n",
    "import seaborn as sns\n",
    "import matplotlib.pyplot as plt\n",
    "from scipy.stats import pearsonr\n",
    "from scipy.stats import spearmanr\n",
    "import itertools\n",
    "from sklearn.model_selection import train_test_split\n",
    "from sklearn.linear_model import LinearRegression\n",
    "import scipy.stats as stats\n",
    "from sklearn.metrics.cluster import normalized_mutual_info_score"
   ]
  },
  {
   "cell_type": "code",
   "execution_count": 2,
   "metadata": {},
   "outputs": [],
   "source": [
    "# Import the datasets\n",
    "HouseTrain4=pd.read_csv('/Users/plutobot/Downloads/Kaggle/HousingData/train4.csv')"
   ]
  },
  {
   "cell_type": "code",
   "execution_count": 3,
   "metadata": {},
   "outputs": [
    {
     "data": {
      "text/plain": [
       "Unnamed: 0       1412\n",
       "Id               1412\n",
       "MSSubClass       1412\n",
       "MSZoning         1412\n",
       "LotFrontage      1412\n",
       "LotArea          1412\n",
       "Street           1412\n",
       "LotShape         1412\n",
       "LandContour      1412\n",
       "LotConfig        1412\n",
       "LandSlope        1412\n",
       "Neighborhood     1412\n",
       "Condition1       1412\n",
       "Condition2       1412\n",
       "BldgType         1412\n",
       "HouseStyle       1412\n",
       "OverallQual      1412\n",
       "OverallCond      1412\n",
       "YearBuilt        1412\n",
       "YearRemodAdd     1412\n",
       "RoofStyle        1412\n",
       "RoofMatl         1412\n",
       "Exterior1st      1412\n",
       "Exterior2nd      1412\n",
       "MasVnrType       1412\n",
       "MasVnrArea       1412\n",
       "ExterQual        1412\n",
       "ExterCond        1412\n",
       "Foundation       1412\n",
       "BsmtQual         1412\n",
       "                 ... \n",
       "BsmtHalfBath     1412\n",
       "FullBath         1412\n",
       "HalfBath         1412\n",
       "BedroomAbvGr     1412\n",
       "KitchenAbvGr     1412\n",
       "KitchenQual      1412\n",
       "TotRmsAbvGrd     1412\n",
       "Functional       1412\n",
       "Fireplaces       1412\n",
       "FireplaceQu      1412\n",
       "GarageType       1412\n",
       "GarageYrBlt      1412\n",
       "GarageFinish     1412\n",
       "GarageCars       1412\n",
       "GarageArea       1412\n",
       "GarageQual       1412\n",
       "GarageCond       1412\n",
       "PavedDrive       1412\n",
       "WoodDeckSF       1412\n",
       "OpenPorchSF      1412\n",
       "EnclosedPorch    1412\n",
       "3SsnPorch        1412\n",
       "ScreenPorch      1412\n",
       "PoolArea         1412\n",
       "MiscVal          1412\n",
       "MoSold           1412\n",
       "YrSold           1412\n",
       "SaleType         1412\n",
       "SaleCondition    1412\n",
       "SalePrice        1412\n",
       "Length: 77, dtype: int64"
      ]
     },
     "execution_count": 3,
     "metadata": {},
     "output_type": "execute_result"
    }
   ],
   "source": [
    "HouseTrain4.count()"
   ]
  },
  {
   "cell_type": "code",
   "execution_count": 4,
   "metadata": {},
   "outputs": [],
   "source": [
    "HouseTrain4=HouseTrain4.drop(columns=['Unnamed: 0'])"
   ]
  },
  {
   "cell_type": "code",
   "execution_count": 5,
   "metadata": {},
   "outputs": [
    {
     "name": "stdout",
     "output_type": "stream",
     "text": [
      "Pearson Result: (-0.08228134656900953, 0.0019723658198608184)\n",
      "Spearman Result: SpearmanrResult(correlation=0.012050495615652105, pvalue=0.6509578609114979)\n",
      "Mutual Info Result: 0.3636434140481217\n"
     ]
    }
   ],
   "source": [
    "# Pearson /Spearman correlation and mutual information for every variable vis-a-vis sale price\n",
    "pearson=pearsonr(HouseTrain4['MSSubClass'],HouseTrain4['SalePrice'])\n",
    "spearman=spearmanr(HouseTrain4['MSSubClass'],HouseTrain4['SalePrice'])\n",
    "mutualinfo=normalized_mutual_info_score(HouseTrain4['MSSubClass'],HouseTrain4['SalePrice'])\n",
    "print (\"Pearson Result:\", pearson)\n",
    "print (\"Spearman Result:\", spearman)\n",
    "print (\"Mutual Info Result:\", mutualinfo)"
   ]
  },
  {
   "cell_type": "code",
   "execution_count": 6,
   "metadata": {},
   "outputs": [
    {
     "name": "stdout",
     "output_type": "stream",
     "text": [
      "Pearson Result: (-0.1675265889465471, 2.38393373831653e-10)\n",
      "Spearman Result: SpearmanrResult(correlation=-0.34254201983186855, pvalue=3.770138892527693e-40)\n",
      "Mutual Info Result: 0.20798809048657896\n"
     ]
    }
   ],
   "source": [
    "pearson=pearsonr(HouseTrain4['MSZoning'],HouseTrain4['SalePrice'])\n",
    "spearman=spearmanr(HouseTrain4['MSZoning'],HouseTrain4['SalePrice'])\n",
    "mutualinfo=normalized_mutual_info_score(HouseTrain4['MSZoning'],HouseTrain4['SalePrice'])\n",
    "print (\"Pearson Result:\", pearson)\n",
    "print (\"Spearman Result:\", spearman)\n",
    "print (\"Mutual Info Result:\", mutualinfo)"
   ]
  },
  {
   "cell_type": "code",
   "execution_count": 7,
   "metadata": {},
   "outputs": [
    {
     "name": "stdout",
     "output_type": "stream",
     "text": [
      "Pearson Result: (0.06256079276012264, 0.018720901399010753)\n",
      "Spearman Result: SpearmanrResult(correlation=0.24007780277700047, pvalue=5.831034170848218e-20)\n",
      "Mutual Info Result: 0.5811007311442487\n"
     ]
    }
   ],
   "source": [
    "pearson=pearsonr(HouseTrain4['LotFrontage'],HouseTrain4['SalePrice'])\n",
    "spearman=spearmanr(HouseTrain4['LotFrontage'],HouseTrain4['SalePrice'])\n",
    "mutualinfo=normalized_mutual_info_score(HouseTrain4['LotFrontage'],HouseTrain4['SalePrice'])\n",
    "print (\"Pearson Result:\", pearson)\n",
    "print (\"Spearman Result:\", spearman)\n",
    "print (\"Mutual Info Result:\", mutualinfo)"
   ]
  },
  {
   "cell_type": "code",
   "execution_count": 8,
   "metadata": {},
   "outputs": [
    {
     "name": "stdout",
     "output_type": "stream",
     "text": [
      "Pearson Result: (0.3934465621544745, 1.726124689257085e-53)\n",
      "Spearman Result: SpearmanrResult(correlation=0.4633208932533597, pvalue=4.715286726578426e-76)\n",
      "Mutual Info Result: 0.8699998563857768\n"
     ]
    }
   ],
   "source": [
    "pearson=pearsonr(HouseTrain4['LotArea'],HouseTrain4['SalePrice'])\n",
    "spearman=spearmanr(HouseTrain4['LotArea'],HouseTrain4['SalePrice'])\n",
    "mutualinfo=normalized_mutual_info_score(HouseTrain4['LotArea'],HouseTrain4['SalePrice'])\n",
    "print (\"Pearson Result:\", pearson)\n",
    "print (\"Spearman Result:\", spearman)\n",
    "print (\"Mutual Info Result:\", mutualinfo)"
   ]
  },
  {
   "cell_type": "code",
   "execution_count": 9,
   "metadata": {},
   "outputs": [
    {
     "name": "stdout",
     "output_type": "stream",
     "text": [
      "Pearson Result: (0.043128517774565646, 0.10524494164499608)\n",
      "Spearman Result: SpearmanrResult(correlation=0.04812005323051543, pvalue=0.0706636023535401)\n",
      "Mutual Info Result: 0.053788940066989165\n"
     ]
    }
   ],
   "source": [
    "pearson=pearsonr(HouseTrain4['Street'],HouseTrain4['SalePrice'])\n",
    "spearman=spearmanr(HouseTrain4['Street'],HouseTrain4['SalePrice'])\n",
    "mutualinfo=normalized_mutual_info_score(HouseTrain4['Street'],HouseTrain4['SalePrice'])\n",
    "print (\"Pearson Result:\", pearson)\n",
    "print (\"Spearman Result:\", spearman)\n",
    "print (\"Mutual Info Result:\", mutualinfo)"
   ]
  },
  {
   "cell_type": "code",
   "execution_count": 10,
   "metadata": {},
   "outputs": [
    {
     "name": "stdout",
     "output_type": "stream",
     "text": [
      "Pearson Result: (-0.25201253447590305, 6.776750170992098e-22)\n",
      "Spearman Result: SpearmanrResult(correlation=-0.3008818768161145, pvalue=6.189554646579291e-31)\n",
      "Mutual Info Result: 0.20307519583522676\n"
     ]
    }
   ],
   "source": [
    "pearson=pearsonr(HouseTrain4['LotShape'],HouseTrain4['SalePrice'])\n",
    "spearman=spearmanr(HouseTrain4['LotShape'],HouseTrain4['SalePrice'])\n",
    "mutualinfo=normalized_mutual_info_score(HouseTrain4['LotShape'],HouseTrain4['SalePrice'])\n",
    "print (\"Pearson Result:\", pearson)\n",
    "print (\"Spearman Result:\", spearman)\n",
    "print (\"Mutual Info Result:\", mutualinfo)"
   ]
  },
  {
   "cell_type": "code",
   "execution_count": 11,
   "metadata": {},
   "outputs": [
    {
     "name": "stdout",
     "output_type": "stream",
     "text": [
      "Pearson Result: (0.014608034599789859, 0.5833738720503477)\n",
      "Spearman Result: SpearmanrResult(correlation=-0.015212426941075764, pvalue=0.5678926124642703)\n",
      "Mutual Info Result: 0.16764854456107764\n"
     ]
    }
   ],
   "source": [
    "pearson=pearsonr(HouseTrain4['LandContour'],HouseTrain4['SalePrice'])\n",
    "spearman=spearmanr(HouseTrain4['LandContour'],HouseTrain4['SalePrice'])\n",
    "mutualinfo=normalized_mutual_info_score(HouseTrain4['LandContour'],HouseTrain4['SalePrice'])\n",
    "print (\"Pearson Result:\", pearson)\n",
    "print (\"Spearman Result:\", spearman)\n",
    "print (\"Mutual Info Result:\", mutualinfo)"
   ]
  },
  {
   "cell_type": "code",
   "execution_count": 12,
   "metadata": {},
   "outputs": [
    {
     "name": "stdout",
     "output_type": "stream",
     "text": [
      "Pearson Result: (-0.06867248623234203, 0.009844611373202755)\n",
      "Spearman Result: SpearmanrResult(correlation=-0.0731804726440433, pvalue=0.005939071191691888)\n",
      "Mutual Info Result: 0.20697645109359908\n"
     ]
    }
   ],
   "source": [
    "pearson=pearsonr(HouseTrain4['LotConfig'],HouseTrain4['SalePrice'])\n",
    "spearman=spearmanr(HouseTrain4['LotConfig'],HouseTrain4['SalePrice'])\n",
    "mutualinfo=normalized_mutual_info_score(HouseTrain4['LotConfig'],HouseTrain4['SalePrice'])\n",
    "print (\"Pearson Result:\", pearson)\n",
    "print (\"Spearman Result:\", spearman)\n",
    "print (\"Mutual Info Result:\", mutualinfo)"
   ]
  },
  {
   "cell_type": "code",
   "execution_count": 13,
   "metadata": {},
   "outputs": [
    {
     "name": "stdout",
     "output_type": "stream",
     "text": [
      "Pearson Result: (0.052343719527036044, 0.04924035035034342)\n",
      "Spearman Result: SpearmanrResult(correlation=0.05166199569090637, pvalue=0.0522754551478518)\n",
      "Mutual Info Result: 0.1256847873615946\n"
     ]
    }
   ],
   "source": [
    "pearson=pearsonr(HouseTrain4['LandSlope'],HouseTrain4['SalePrice'])\n",
    "spearman=spearmanr(HouseTrain4['LandSlope'],HouseTrain4['SalePrice'])\n",
    "mutualinfo=normalized_mutual_info_score(HouseTrain4['LandSlope'],HouseTrain4['SalePrice'])\n",
    "print (\"Pearson Result:\", pearson)\n",
    "print (\"Spearman Result:\", spearman)\n",
    "print (\"Mutual Info Result:\", mutualinfo)"
   ]
  },
  {
   "cell_type": "code",
   "execution_count": 14,
   "metadata": {},
   "outputs": [
    {
     "name": "stdout",
     "output_type": "stream",
     "text": [
      "Pearson Result: (0.20895514250972125, 2.1462085652945706e-15)\n",
      "Spearman Result: SpearmanrResult(correlation=0.16273931360891747, pvalue=7.708401235675912e-10)\n",
      "Mutual Info Result: 0.4756310265698517\n"
     ]
    }
   ],
   "source": [
    "pearson=pearsonr(HouseTrain4['Neighborhood'],HouseTrain4['SalePrice'])\n",
    "spearman=spearmanr(HouseTrain4['Neighborhood'],HouseTrain4['SalePrice'])\n",
    "mutualinfo=normalized_mutual_info_score(HouseTrain4['Neighborhood'],HouseTrain4['SalePrice'])\n",
    "print (\"Pearson Result:\", pearson)\n",
    "print (\"Spearman Result:\", spearman)\n",
    "print (\"Mutual Info Result:\", mutualinfo)"
   ]
  },
  {
   "cell_type": "code",
   "execution_count": 15,
   "metadata": {},
   "outputs": [
    {
     "name": "stdout",
     "output_type": "stream",
     "text": [
      "Pearson Result: (0.09055071859720425, 0.0006578375467345322)\n",
      "Spearman Result: SpearmanrResult(correlation=0.1891960226703176, pvalue=7.617065761153327e-13)\n",
      "Mutual Info Result: 0.19648790910679287\n"
     ]
    }
   ],
   "source": [
    "pearson=pearsonr(HouseTrain4['Condition1'],HouseTrain4['SalePrice'])\n",
    "spearman=spearmanr(HouseTrain4['Condition1'],HouseTrain4['SalePrice'])\n",
    "mutualinfo=normalized_mutual_info_score(HouseTrain4['Condition1'],HouseTrain4['SalePrice'])\n",
    "print (\"Pearson Result:\", pearson)\n",
    "print (\"Spearman Result:\", spearman)\n",
    "print (\"Mutual Info Result:\", mutualinfo)"
   ]
  },
  {
   "cell_type": "code",
   "execution_count": 16,
   "metadata": {},
   "outputs": [
    {
     "name": "stdout",
     "output_type": "stream",
     "text": [
      "Pearson Result: (0.007010251771135986, 0.7924031470741336)\n",
      "Spearman Result: SpearmanrResult(correlation=0.06350523296206594, pvalue=0.017004711867769296)\n",
      "Mutual Info Result: 0.08336641197670307\n"
     ]
    }
   ],
   "source": [
    "pearson=pearsonr(HouseTrain4['Condition2'],HouseTrain4['SalePrice'])\n",
    "spearman=spearmanr(HouseTrain4['Condition2'],HouseTrain4['SalePrice'])\n",
    "mutualinfo=normalized_mutual_info_score(HouseTrain4['Condition2'],HouseTrain4['SalePrice'])\n",
    "print (\"Pearson Result:\", pearson)\n",
    "print (\"Spearman Result:\", spearman)\n",
    "print (\"Mutual Info Result:\", mutualinfo)"
   ]
  },
  {
   "cell_type": "code",
   "execution_count": 17,
   "metadata": {},
   "outputs": [
    {
     "name": "stdout",
     "output_type": "stream",
     "text": [
      "Pearson Result: (-0.08014511792298548, 0.002580302391888905)\n",
      "Spearman Result: SpearmanrResult(correlation=-0.1036256885387448, pvalue=9.58130497906015e-05)\n",
      "Mutual Info Result: 0.1852414993870133\n"
     ]
    }
   ],
   "source": [
    "pearson=pearsonr(HouseTrain4['BldgType'],HouseTrain4['SalePrice'])\n",
    "spearman=spearmanr(HouseTrain4['BldgType'],HouseTrain4['SalePrice'])\n",
    "mutualinfo=normalized_mutual_info_score(HouseTrain4['BldgType'],HouseTrain4['SalePrice'])\n",
    "print (\"Pearson Result:\", pearson)\n",
    "print (\"Spearman Result:\", spearman)\n",
    "print (\"Mutual Info Result:\", mutualinfo)"
   ]
  },
  {
   "cell_type": "code",
   "execution_count": 18,
   "metadata": {},
   "outputs": [
    {
     "name": "stdout",
     "output_type": "stream",
     "text": [
      "Pearson Result: (0.17337671736338733, 5.421814063683364e-11)\n",
      "Spearman Result: SpearmanrResult(correlation=0.24339534926344006, pvalue=1.7312101793946773e-20)\n",
      "Mutual Info Result: 0.2574122849427845\n"
     ]
    }
   ],
   "source": [
    "pearson=pearsonr(HouseTrain4['HouseStyle'],HouseTrain4['SalePrice'])\n",
    "spearman=spearmanr(HouseTrain4['HouseStyle'],HouseTrain4['SalePrice'])\n",
    "mutualinfo=normalized_mutual_info_score(HouseTrain4['HouseStyle'],HouseTrain4['SalePrice'])\n",
    "print (\"Pearson Result:\", pearson)\n",
    "print (\"Spearman Result:\", spearman)\n",
    "print (\"Mutual Info Result:\", mutualinfo)"
   ]
  },
  {
   "cell_type": "code",
   "execution_count": 19,
   "metadata": {},
   "outputs": [
    {
     "name": "stdout",
     "output_type": "stream",
     "text": [
      "Pearson Result: (0.7867645427228941, 9.651093723061245e-298)\n",
      "Spearman Result: SpearmanrResult(correlation=0.8034815374811524, pvalue=6.7647e-320)\n",
      "Mutual Info Result: 0.35780176900115523\n"
     ]
    }
   ],
   "source": [
    "pearson=pearsonr(HouseTrain4['OverallQual'],HouseTrain4['SalePrice'])\n",
    "spearman=spearmanr(HouseTrain4['OverallQual'],HouseTrain4['SalePrice'])\n",
    "mutualinfo=normalized_mutual_info_score(HouseTrain4['OverallQual'],HouseTrain4['SalePrice'])\n",
    "print (\"Pearson Result:\", pearson)\n",
    "print (\"Spearman Result:\", spearman)\n",
    "print (\"Mutual Info Result:\", mutualinfo)"
   ]
  },
  {
   "cell_type": "code",
   "execution_count": 20,
   "metadata": {},
   "outputs": [
    {
     "name": "stdout",
     "output_type": "stream",
     "text": [
      "Pearson Result: (-0.09356711859234725, 0.00043066100844410294)\n",
      "Spearman Result: SpearmanrResult(correlation=-0.15414031852568041, pvalue=5.823021096253786e-09)\n",
      "Mutual Info Result: 0.2587606648262914\n"
     ]
    }
   ],
   "source": [
    "pearson=pearsonr(HouseTrain4['OverallCond'],HouseTrain4['SalePrice'])\n",
    "spearman=spearmanr(HouseTrain4['OverallCond'],HouseTrain4['SalePrice'])\n",
    "mutualinfo=normalized_mutual_info_score(HouseTrain4['OverallCond'],HouseTrain4['SalePrice'])\n",
    "print (\"Pearson Result:\", pearson)\n",
    "print (\"Spearman Result:\", spearman)\n",
    "print (\"Mutual Info Result:\", mutualinfo)"
   ]
  },
  {
   "cell_type": "code",
   "execution_count": 21,
   "metadata": {},
   "outputs": [
    {
     "name": "stdout",
     "output_type": "stream",
     "text": [
      "Pearson Result: (0.5187358492222689, 4.33345548075325e-98)\n",
      "Spearman Result: SpearmanrResult(correlation=0.6493732846915857, pvalue=6.917186341690593e-170)\n",
      "Mutual Info Result: 0.6313020350812869\n"
     ]
    }
   ],
   "source": [
    "pearson=pearsonr(HouseTrain4['YearBuilt'],HouseTrain4['SalePrice'])\n",
    "spearman=spearmanr(HouseTrain4['YearBuilt'],HouseTrain4['SalePrice'])\n",
    "mutualinfo=normalized_mutual_info_score(HouseTrain4['YearBuilt'],HouseTrain4['SalePrice'])\n",
    "print (\"Pearson Result:\", pearson)\n",
    "print (\"Spearman Result:\", spearman)\n",
    "print (\"Mutual Info Result:\", mutualinfo)"
   ]
  },
  {
   "cell_type": "code",
   "execution_count": 22,
   "metadata": {},
   "outputs": [
    {
     "name": "stdout",
     "output_type": "stream",
     "text": [
      "Pearson Result: (0.5002659488611415, 2.7334328623029903e-90)\n",
      "Spearman Result: SpearmanrResult(correlation=0.5666173519067975, pvalue=1.0389720266415156e-120)\n",
      "Mutual Info Result: 0.5588609856190938\n"
     ]
    }
   ],
   "source": [
    "pearson=pearsonr(HouseTrain4['YearRemodAdd'],HouseTrain4['SalePrice'])\n",
    "spearman=spearmanr(HouseTrain4['YearRemodAdd'],HouseTrain4['SalePrice'])\n",
    "mutualinfo=normalized_mutual_info_score(HouseTrain4['YearRemodAdd'],HouseTrain4['SalePrice'])\n",
    "print (\"Pearson Result:\", pearson)\n",
    "print (\"Spearman Result:\", spearman)\n",
    "print (\"Mutual Info Result:\", mutualinfo)"
   ]
  },
  {
   "cell_type": "code",
   "execution_count": 23,
   "metadata": {},
   "outputs": [
    {
     "name": "stdout",
     "output_type": "stream",
     "text": [
      "Pearson Result: (0.2324828427092384, 8.775338294060046e-19)\n",
      "Spearman Result: SpearmanrResult(correlation=0.1483096783953668, pvalue=2.155587415577419e-08)\n",
      "Mutual Info Result: 0.18309900567555903\n"
     ]
    }
   ],
   "source": [
    "pearson=pearsonr(HouseTrain4['RoofStyle'],HouseTrain4['SalePrice'])\n",
    "spearman=spearmanr(HouseTrain4['RoofStyle'],HouseTrain4['SalePrice'])\n",
    "mutualinfo=normalized_mutual_info_score(HouseTrain4['RoofStyle'],HouseTrain4['SalePrice'])\n",
    "print (\"Pearson Result:\", pearson)\n",
    "print (\"Spearman Result:\", spearman)\n",
    "print (\"Mutual Info Result:\", mutualinfo)"
   ]
  },
  {
   "cell_type": "code",
   "execution_count": 24,
   "metadata": {},
   "outputs": [
    {
     "name": "stdout",
     "output_type": "stream",
     "text": [
      "Pearson Result: (0.14036393822078228, 1.1838941774232724e-07)\n",
      "Spearman Result: SpearmanrResult(correlation=0.09342478656862652, pvalue=0.000439479170276169)\n",
      "Mutual Info Result: 0.09764157299564966\n"
     ]
    }
   ],
   "source": [
    "pearson=pearsonr(HouseTrain4['RoofMatl'],HouseTrain4['SalePrice'])\n",
    "spearman=spearmanr(HouseTrain4['RoofMatl'],HouseTrain4['SalePrice'])\n",
    "mutualinfo=normalized_mutual_info_score(HouseTrain4['RoofMatl'],HouseTrain4['SalePrice'])\n",
    "print (\"Pearson Result:\", pearson)\n",
    "print (\"Spearman Result:\", spearman)\n",
    "print (\"Mutual Info Result:\", mutualinfo)"
   ]
  },
  {
   "cell_type": "code",
   "execution_count": 25,
   "metadata": {},
   "outputs": [
    {
     "name": "stdout",
     "output_type": "stream",
     "text": [
      "Pearson Result: (0.09109101352254174, 0.0006103233890484361)\n",
      "Spearman Result: SpearmanrResult(correlation=0.058392840110809904, pvalue=0.028225864581921695)\n",
      "Mutual Info Result: 0.32619034605000435\n"
     ]
    }
   ],
   "source": [
    "pearson=pearsonr(HouseTrain4['Exterior1st'],HouseTrain4['SalePrice'])\n",
    "spearman=spearmanr(HouseTrain4['Exterior1st'],HouseTrain4['SalePrice'])\n",
    "mutualinfo=normalized_mutual_info_score(HouseTrain4['Exterior1st'],HouseTrain4['SalePrice'])\n",
    "print (\"Pearson Result:\", pearson)\n",
    "print (\"Spearman Result:\", spearman)\n",
    "print (\"Mutual Info Result:\", mutualinfo)"
   ]
  },
  {
   "cell_type": "code",
   "execution_count": 26,
   "metadata": {},
   "outputs": [
    {
     "name": "stdout",
     "output_type": "stream",
     "text": [
      "Pearson Result: (0.10044888806459147, 0.00015635700002130978)\n",
      "Spearman Result: SpearmanrResult(correlation=0.0685599571640022, pvalue=0.009966186135210706)\n",
      "Mutual Info Result: 0.337179123913186\n"
     ]
    }
   ],
   "source": [
    "pearson=pearsonr(HouseTrain4['Exterior2nd'],HouseTrain4['SalePrice'])\n",
    "spearman=spearmanr(HouseTrain4['Exterior2nd'],HouseTrain4['SalePrice'])\n",
    "mutualinfo=normalized_mutual_info_score(HouseTrain4['Exterior2nd'],HouseTrain4['SalePrice'])\n",
    "print (\"Pearson Result:\", pearson)\n",
    "print (\"Spearman Result:\", spearman)\n",
    "print (\"Mutual Info Result:\", mutualinfo)"
   ]
  },
  {
   "cell_type": "code",
   "execution_count": 27,
   "metadata": {},
   "outputs": [
    {
     "name": "stdout",
     "output_type": "stream",
     "text": [
      "Pearson Result: (0.02463577086110683, 0.3549405438852039)\n",
      "Spearman Result: SpearmanrResult(correlation=-0.06742563143868024, pvalue=0.011268326167682549)\n",
      "Mutual Info Result: 0.22191203441098503\n"
     ]
    }
   ],
   "source": [
    "pearson=pearsonr(HouseTrain4['MasVnrType'],HouseTrain4['SalePrice'])\n",
    "spearman=spearmanr(HouseTrain4['MasVnrType'],HouseTrain4['SalePrice'])\n",
    "mutualinfo=normalized_mutual_info_score(HouseTrain4['MasVnrType'],HouseTrain4['SalePrice'])\n",
    "print (\"Pearson Result:\", pearson)\n",
    "print (\"Spearman Result:\", spearman)\n",
    "print (\"Mutual Info Result:\", mutualinfo)"
   ]
  },
  {
   "cell_type": "code",
   "execution_count": 28,
   "metadata": {},
   "outputs": [
    {
     "name": "stdout",
     "output_type": "stream",
     "text": [
      "Pearson Result: (0.40412043803299774, 1.3365669067589608e-56)\n",
      "Spearman Result: SpearmanrResult(correlation=0.41420963825402163, pvalue=1.1996398555669743e-59)\n",
      "Mutual Info Result: 0.5575160359996191\n"
     ]
    }
   ],
   "source": [
    "pearson=pearsonr(HouseTrain4['MasVnrArea'],HouseTrain4['SalePrice'])\n",
    "spearman=spearmanr(HouseTrain4['MasVnrArea'],HouseTrain4['SalePrice'])\n",
    "mutualinfo=normalized_mutual_info_score(HouseTrain4['MasVnrArea'],HouseTrain4['SalePrice'])\n",
    "print (\"Pearson Result:\", pearson)\n",
    "print (\"Spearman Result:\", spearman)\n",
    "print (\"Mutual Info Result:\", mutualinfo)"
   ]
  },
  {
   "cell_type": "code",
   "execution_count": 29,
   "metadata": {},
   "outputs": [
    {
     "name": "stdout",
     "output_type": "stream",
     "text": [
      "Pearson Result: (-0.6380003165939626, 3.181390774591075e-162)\n",
      "Spearman Result: SpearmanrResult(correlation=-0.6344276803354311, pvalue=6.973011035424447e-160)\n",
      "Mutual Info Result: 0.26620015568615796\n"
     ]
    }
   ],
   "source": [
    "pearson=pearsonr(HouseTrain4['ExterQual'],HouseTrain4['SalePrice'])\n",
    "spearman=spearmanr(HouseTrain4['ExterQual'],HouseTrain4['SalePrice'])\n",
    "mutualinfo=normalized_mutual_info_score(HouseTrain4['ExterQual'],HouseTrain4['SalePrice'])\n",
    "print (\"Pearson Result:\", pearson)\n",
    "print (\"Spearman Result:\", spearman)\n",
    "print (\"Mutual Info Result:\", mutualinfo)"
   ]
  },
  {
   "cell_type": "code",
   "execution_count": 30,
   "metadata": {},
   "outputs": [
    {
     "name": "stdout",
     "output_type": "stream",
     "text": [
      "Pearson Result: (0.11272750721157161, 2.1790922884748958e-05)\n",
      "Spearman Result: SpearmanrResult(correlation=0.12616697227739176, pvalue=1.977197950751019e-06)\n",
      "Mutual Info Result: 0.14355543736334014\n"
     ]
    }
   ],
   "source": [
    "pearson=pearsonr(HouseTrain4['ExterCond'],HouseTrain4['SalePrice'])\n",
    "spearman=spearmanr(HouseTrain4['ExterCond'],HouseTrain4['SalePrice'])\n",
    "mutualinfo=normalized_mutual_info_score(HouseTrain4['ExterCond'],HouseTrain4['SalePrice'])\n",
    "print (\"Pearson Result:\", pearson)\n",
    "print (\"Spearman Result:\", spearman)\n",
    "print (\"Mutual Info Result:\", mutualinfo)"
   ]
  },
  {
   "cell_type": "code",
   "execution_count": 31,
   "metadata": {},
   "outputs": [
    {
     "name": "stdout",
     "output_type": "stream",
     "text": [
      "Pearson Result: (0.4553326717943131, 3.3786838158901545e-73)\n",
      "Spearman Result: SpearmanrResult(correlation=0.5532924609471994, pvalue=4.8255685174333e-114)\n",
      "Mutual Info Result: 0.23798559748048964\n"
     ]
    }
   ],
   "source": [
    "pearson=pearsonr(HouseTrain4['Foundation'],HouseTrain4['SalePrice'])\n",
    "spearman=spearmanr(HouseTrain4['Foundation'],HouseTrain4['SalePrice'])\n",
    "mutualinfo=normalized_mutual_info_score(HouseTrain4['Foundation'],HouseTrain4['SalePrice'])\n",
    "print (\"Pearson Result:\", pearson)\n",
    "print (\"Spearman Result:\", spearman)\n",
    "print (\"Mutual Info Result:\", mutualinfo)"
   ]
  },
  {
   "cell_type": "code",
   "execution_count": 32,
   "metadata": {},
   "outputs": [
    {
     "name": "stdout",
     "output_type": "stream",
     "text": [
      "Pearson Result: (-0.6092234975614518, 3.2813018160699573e-144)\n",
      "Spearman Result: SpearmanrResult(correlation=-0.5800405769582512, pvalue=9.67092214641811e-128)\n",
      "Mutual Info Result: 0.269571146792095\n"
     ]
    }
   ],
   "source": [
    "pearson=pearsonr(HouseTrain4['BsmtQual'],HouseTrain4['SalePrice'])\n",
    "spearman=spearmanr(HouseTrain4['BsmtQual'],HouseTrain4['SalePrice'])\n",
    "mutualinfo=normalized_mutual_info_score(HouseTrain4['BsmtQual'],HouseTrain4['SalePrice'])\n",
    "print (\"Pearson Result:\", pearson)\n",
    "print (\"Spearman Result:\", spearman)\n",
    "print (\"Mutual Info Result:\", mutualinfo)"
   ]
  },
  {
   "cell_type": "code",
   "execution_count": 33,
   "metadata": {},
   "outputs": [
    {
     "name": "stdout",
     "output_type": "stream",
     "text": [
      "Pearson Result: (0.06718380326678486, 0.011564704767043278)\n",
      "Spearman Result: SpearmanrResult(correlation=0.04398920256943601, pvalue=0.09847339573623873)\n",
      "Mutual Info Result: 0.14944357018098506\n"
     ]
    }
   ],
   "source": [
    "pearson=pearsonr(HouseTrain4['BsmtCond'],HouseTrain4['SalePrice'])\n",
    "spearman=spearmanr(HouseTrain4['BsmtCond'],HouseTrain4['SalePrice'])\n",
    "mutualinfo=normalized_mutual_info_score(HouseTrain4['BsmtCond'],HouseTrain4['SalePrice'])\n",
    "print (\"Pearson Result:\", pearson)\n",
    "print (\"Spearman Result:\", spearman)\n",
    "print (\"Mutual Info Result:\", mutualinfo)"
   ]
  },
  {
   "cell_type": "code",
   "execution_count": 34,
   "metadata": {},
   "outputs": [
    {
     "name": "stdout",
     "output_type": "stream",
     "text": [
      "Pearson Result: (-0.2858878843711926, 5.769919931942512e-28)\n",
      "Spearman Result: SpearmanrResult(correlation=-0.28225584860567576, pvalue=2.8437711525007638e-27)\n",
      "Mutual Info Result: 0.24112754215459192\n"
     ]
    }
   ],
   "source": [
    "pearson=pearsonr(HouseTrain4['BsmtExposure'],HouseTrain4['SalePrice'])\n",
    "spearman=spearmanr(HouseTrain4['BsmtExposure'],HouseTrain4['SalePrice'])\n",
    "mutualinfo=normalized_mutual_info_score(HouseTrain4['BsmtExposure'],HouseTrain4['SalePrice'])\n",
    "print (\"Pearson Result:\", pearson)\n",
    "print (\"Spearman Result:\", spearman)\n",
    "print (\"Mutual Info Result:\", mutualinfo)"
   ]
  },
  {
   "cell_type": "code",
   "execution_count": 35,
   "metadata": {},
   "outputs": [
    {
     "name": "stdout",
     "output_type": "stream",
     "text": [
      "Pearson Result: (-0.06360092286779348, 0.016838774608549118)\n",
      "Spearman Result: SpearmanrResult(correlation=-0.051409666716024746, pvalue=0.05343777979481712)\n",
      "Mutual Info Result: 0.28418647889154974\n"
     ]
    }
   ],
   "source": [
    "pearson=pearsonr(HouseTrain4['BsmtFinType1'],HouseTrain4['SalePrice'])\n",
    "spearman=spearmanr(HouseTrain4['BsmtFinType1'],HouseTrain4['SalePrice'])\n",
    "mutualinfo=normalized_mutual_info_score(HouseTrain4['BsmtFinType1'],HouseTrain4['SalePrice'])\n",
    "print (\"Pearson Result:\", pearson)\n",
    "print (\"Spearman Result:\", spearman)\n",
    "print (\"Mutual Info Result:\", mutualinfo)"
   ]
  },
  {
   "cell_type": "code",
   "execution_count": 36,
   "metadata": {},
   "outputs": [
    {
     "name": "stdout",
     "output_type": "stream",
     "text": [
      "Pearson Result: (0.15439343318917678, 5.495148403770988e-09)\n",
      "Spearman Result: SpearmanrResult(correlation=0.27342929089940887, pvalue=1.2440853810440477e-25)\n",
      "Mutual Info Result: 0.7242979781819413\n"
     ]
    }
   ],
   "source": [
    "pearson=pearsonr(HouseTrain4['BsmtFinSF1'],HouseTrain4['SalePrice'])\n",
    "spearman=spearmanr(HouseTrain4['BsmtFinSF1'],HouseTrain4['SalePrice'])\n",
    "mutualinfo=normalized_mutual_info_score(HouseTrain4['BsmtFinSF1'],HouseTrain4['SalePrice'])\n",
    "print (\"Pearson Result:\", pearson)\n",
    "print (\"Spearman Result:\", spearman)\n",
    "print (\"Mutual Info Result:\", mutualinfo)"
   ]
  },
  {
   "cell_type": "code",
   "execution_count": 37,
   "metadata": {},
   "outputs": [
    {
     "name": "stdout",
     "output_type": "stream",
     "text": [
      "Pearson Result: (0.04018700871944729, 0.13120603448034998)\n",
      "Spearman Result: SpearmanrResult(correlation=0.054770487345159824, pvalue=0.039608370011121)\n",
      "Mutual Info Result: 0.17551689682659805\n"
     ]
    }
   ],
   "source": [
    "pearson=pearsonr(HouseTrain4['BsmtFinType2'],HouseTrain4['SalePrice'])\n",
    "spearman=spearmanr(HouseTrain4['BsmtFinType2'],HouseTrain4['SalePrice'])\n",
    "mutualinfo=normalized_mutual_info_score(HouseTrain4['BsmtFinType2'],HouseTrain4['SalePrice'])\n",
    "print (\"Pearson Result:\", pearson)\n",
    "print (\"Spearman Result:\", spearman)\n",
    "print (\"Mutual Info Result:\", mutualinfo)"
   ]
  },
  {
   "cell_type": "code",
   "execution_count": 38,
   "metadata": {},
   "outputs": [
    {
     "name": "stdout",
     "output_type": "stream",
     "text": [
      "Pearson Result: (-0.059692992148248955, 0.024892117921943648)\n",
      "Spearman Result: SpearmanrResult(correlation=-0.05388414049016586, pvalue=0.04292286396502861)\n",
      "Mutual Info Result: 0.2948580909744565\n"
     ]
    }
   ],
   "source": [
    "pearson=pearsonr(HouseTrain4['BsmtFinSF2'],HouseTrain4['SalePrice'])\n",
    "spearman=spearmanr(HouseTrain4['BsmtFinSF2'],HouseTrain4['SalePrice'])\n",
    "mutualinfo=normalized_mutual_info_score(HouseTrain4['BsmtFinSF2'],HouseTrain4['SalePrice'])\n",
    "print (\"Pearson Result:\", pearson)\n",
    "print (\"Spearman Result:\", spearman)\n",
    "print (\"Mutual Info Result:\", mutualinfo)"
   ]
  },
  {
   "cell_type": "code",
   "execution_count": 39,
   "metadata": {},
   "outputs": [
    {
     "name": "stdout",
     "output_type": "stream",
     "text": [
      "Pearson Result: (0.18894004403053224, 8.186333200330388e-13)\n",
      "Spearman Result: SpearmanrResult(correlation=0.1403983584144996, pvalue=1.1754241865054883e-07)\n",
      "Mutual Info Result: 0.8362655234515665\n"
     ]
    }
   ],
   "source": [
    "pearson=pearsonr(HouseTrain4['BsmtUnfSF'],HouseTrain4['SalePrice'])\n",
    "spearman=spearmanr(HouseTrain4['BsmtUnfSF'],HouseTrain4['SalePrice'])\n",
    "mutualinfo=normalized_mutual_info_score(HouseTrain4['BsmtUnfSF'],HouseTrain4['SalePrice'])\n",
    "print (\"Pearson Result:\", pearson)\n",
    "print (\"Spearman Result:\", spearman)\n",
    "print (\"Mutual Info Result:\", mutualinfo)"
   ]
  },
  {
   "cell_type": "code",
   "execution_count": 40,
   "metadata": {},
   "outputs": [
    {
     "name": "stdout",
     "output_type": "stream",
     "text": [
      "Pearson Result: (0.6110839004748737, 2.554841742424068e-145)\n",
      "Spearman Result: SpearmanrResult(correlation=0.5831079724591862, pvalue=2.1501478745651017e-129)\n",
      "Mutual Info Result: 0.8274428168673748\n"
     ]
    }
   ],
   "source": [
    "pearson=pearsonr(HouseTrain4['TotalBsmtSF'],HouseTrain4['SalePrice'])\n",
    "spearman=spearmanr(HouseTrain4['TotalBsmtSF'],HouseTrain4['SalePrice'])\n",
    "mutualinfo=normalized_mutual_info_score(HouseTrain4['TotalBsmtSF'],HouseTrain4['SalePrice'])\n",
    "print (\"Pearson Result:\", pearson)\n",
    "print (\"Spearman Result:\", spearman)\n",
    "print (\"Mutual Info Result:\", mutualinfo)"
   ]
  },
  {
   "cell_type": "code",
   "execution_count": 41,
   "metadata": {},
   "outputs": [
    {
     "name": "stdout",
     "output_type": "stream",
     "text": [
      "Pearson Result: (-0.08643585673296428, 0.0011492938432692643)\n",
      "Spearman Result: SpearmanrResult(correlation=-0.09094815255247919, pvalue=0.0006225664813495751)\n",
      "Mutual Info Result: 0.09082841681694549\n"
     ]
    }
   ],
   "source": [
    "pearson=pearsonr(HouseTrain4['Heating'],HouseTrain4['SalePrice'])\n",
    "spearman=spearmanr(HouseTrain4['Heating'],HouseTrain4['SalePrice'])\n",
    "mutualinfo=normalized_mutual_info_score(HouseTrain4['Heating'],HouseTrain4['SalePrice'])\n",
    "print (\"Pearson Result:\", pearson)\n",
    "print (\"Spearman Result:\", spearman)\n",
    "print (\"Mutual Info Result:\", mutualinfo)"
   ]
  },
  {
   "cell_type": "code",
   "execution_count": 42,
   "metadata": {},
   "outputs": [
    {
     "name": "stdout",
     "output_type": "stream",
     "text": [
      "Pearson Result: (-0.3989907909047549, 4.3186554078409885e-55)\n",
      "Spearman Result: SpearmanrResult(correlation=-0.4686555798917955, pvalue=5.297278660369535e-78)\n",
      "Mutual Info Result: 0.22852476116823284\n"
     ]
    }
   ],
   "source": [
    "pearson=pearsonr(HouseTrain4['HeatingQC'],HouseTrain4['SalePrice'])\n",
    "spearman=spearmanr(HouseTrain4['HeatingQC'],HouseTrain4['SalePrice'])\n",
    "mutualinfo=normalized_mutual_info_score(HouseTrain4['HeatingQC'],HouseTrain4['SalePrice'])\n",
    "print (\"Pearson Result:\", pearson)\n",
    "print (\"Spearman Result:\", spearman)\n",
    "print (\"Mutual Info Result:\", mutualinfo)"
   ]
  },
  {
   "cell_type": "code",
   "execution_count": 43,
   "metadata": {},
   "outputs": [
    {
     "name": "stdout",
     "output_type": "stream",
     "text": [
      "Pearson Result: (0.22854283343724072, 3.450392836732166e-18)\n",
      "Spearman Result: SpearmanrResult(correlation=0.28306384976308463, pvalue=1.9983638397065457e-27)\n",
      "Mutual Info Result: 0.12350221903577055\n"
     ]
    }
   ],
   "source": [
    "pearson=pearsonr(HouseTrain4['CentralAir'],HouseTrain4['SalePrice'])\n",
    "spearman=spearmanr(HouseTrain4['CentralAir'],HouseTrain4['SalePrice'])\n",
    "mutualinfo=normalized_mutual_info_score(HouseTrain4['CentralAir'],HouseTrain4['SalePrice'])\n",
    "print (\"Pearson Result:\", pearson)\n",
    "print (\"Spearman Result:\", spearman)\n",
    "print (\"Mutual Info Result:\", mutualinfo)"
   ]
  },
  {
   "cell_type": "code",
   "execution_count": 44,
   "metadata": {},
   "outputs": [
    {
     "name": "stdout",
     "output_type": "stream",
     "text": [
      "Pearson Result: (0.2231152266420786, 2.1824626118628983e-17)\n",
      "Spearman Result: SpearmanrResult(correlation=0.2776405703655011, pvalue=2.086418373582507e-26)\n",
      "Mutual Info Result: 0.1404404129170956\n"
     ]
    }
   ],
   "source": [
    "pearson=pearsonr(HouseTrain4['Electrical'],HouseTrain4['SalePrice'])\n",
    "spearman=spearmanr(HouseTrain4['Electrical'],HouseTrain4['SalePrice'])\n",
    "mutualinfo=normalized_mutual_info_score(HouseTrain4['Electrical'],HouseTrain4['SalePrice'])\n",
    "print (\"Pearson Result:\", pearson)\n",
    "print (\"Spearman Result:\", spearman)\n",
    "print (\"Mutual Info Result:\", mutualinfo)"
   ]
  },
  {
   "cell_type": "code",
   "execution_count": 45,
   "metadata": {},
   "outputs": [
    {
     "name": "stdout",
     "output_type": "stream",
     "text": [
      "Pearson Result: (0.6147530051654263, 1.581348541919538e-147)\n",
      "Spearman Result: SpearmanrResult(correlation=0.591538719087609, pvalue=4.979821731598344e-134)\n",
      "Mutual Info Result: 0.8373528783122428\n"
     ]
    }
   ],
   "source": [
    "pearson=pearsonr(HouseTrain4['1stFlrSF'],HouseTrain4['SalePrice'])\n",
    "spearman=spearmanr(HouseTrain4['1stFlrSF'],HouseTrain4['SalePrice'])\n",
    "mutualinfo=normalized_mutual_info_score(HouseTrain4['1stFlrSF'],HouseTrain4['SalePrice'])\n",
    "print (\"Pearson Result:\", pearson)\n",
    "print (\"Spearman Result:\", spearman)\n",
    "print (\"Mutual Info Result:\", mutualinfo)"
   ]
  },
  {
   "cell_type": "code",
   "execution_count": 46,
   "metadata": {},
   "outputs": [
    {
     "name": "stdout",
     "output_type": "stream",
     "text": [
      "Pearson Result: (0.16388507560564622, 5.839017164634406e-10)\n",
      "Spearman Result: SpearmanrResult(correlation=0.28849419383770303, pvalue=1.8102420524601592e-28)\n",
      "Mutual Info Result: 0.5766613780849311\n"
     ]
    }
   ],
   "source": [
    "pearson=pearsonr(HouseTrain4['2ndFlrSF'],HouseTrain4['SalePrice'])\n",
    "spearman=spearmanr(HouseTrain4['2ndFlrSF'],HouseTrain4['SalePrice'])\n",
    "mutualinfo=normalized_mutual_info_score(HouseTrain4['2ndFlrSF'],HouseTrain4['SalePrice'])\n",
    "print (\"Pearson Result:\", pearson)\n",
    "print (\"Spearman Result:\", spearman)\n",
    "print (\"Mutual Info Result:\", mutualinfo)"
   ]
  },
  {
   "cell_type": "code",
   "execution_count": 47,
   "metadata": {},
   "outputs": [
    {
     "name": "stdout",
     "output_type": "stream",
     "text": [
      "Pearson Result: (-0.028358465411627596, 0.28692806302880386)\n",
      "Spearman Result: SpearmanrResult(correlation=-0.07499051238489467, pvalue=0.00481191422622564)\n",
      "Mutual Info Result: 0.12024846689145023\n"
     ]
    }
   ],
   "source": [
    "pearson=pearsonr(HouseTrain4['LowQualFinSF'],HouseTrain4['SalePrice'])\n",
    "spearman=spearmanr(HouseTrain4['LowQualFinSF'],HouseTrain4['SalePrice'])\n",
    "mutualinfo=normalized_mutual_info_score(HouseTrain4['LowQualFinSF'],HouseTrain4['SalePrice'])\n",
    "print (\"Pearson Result:\", pearson)\n",
    "print (\"Spearman Result:\", spearman)\n",
    "print (\"Mutual Info Result:\", mutualinfo)"
   ]
  },
  {
   "cell_type": "code",
   "execution_count": 48,
   "metadata": {},
   "outputs": [
    {
     "name": "stdout",
     "output_type": "stream",
     "text": [
      "Pearson Result: (0.7110797668447894, 6.012080995809382e-218)\n",
      "Spearman Result: SpearmanrResult(correlation=0.7358025089305834, pvalue=5.857033039203734e-241)\n",
      "Mutual Info Result: 0.8525993105132466\n"
     ]
    }
   ],
   "source": [
    "pearson=pearsonr(HouseTrain4['GrLivArea'],HouseTrain4['SalePrice'])\n",
    "spearman=spearmanr(HouseTrain4['GrLivArea'],HouseTrain4['SalePrice'])\n",
    "mutualinfo=normalized_mutual_info_score(HouseTrain4['GrLivArea'],HouseTrain4['SalePrice'])\n",
    "print (\"Pearson Result:\", pearson)\n",
    "print (\"Spearman Result:\", spearman)\n",
    "print (\"Mutual Info Result:\", mutualinfo)"
   ]
  },
  {
   "cell_type": "code",
   "execution_count": 49,
   "metadata": {},
   "outputs": [
    {
     "name": "stdout",
     "output_type": "stream",
     "text": [
      "Pearson Result: (0.20875630466587425, 2.283825509113911e-15)\n",
      "Spearman Result: SpearmanrResult(correlation=0.20130110330170045, pvalue=2.244161117096916e-14)\n",
      "Mutual Info Result: 0.16583994860500972\n"
     ]
    }
   ],
   "source": [
    "pearson=pearsonr(HouseTrain4['BsmtFullBath'],HouseTrain4['SalePrice'])\n",
    "spearman=spearmanr(HouseTrain4['BsmtFullBath'],HouseTrain4['SalePrice'])\n",
    "mutualinfo=normalized_mutual_info_score(HouseTrain4['BsmtFullBath'],HouseTrain4['SalePrice'])\n",
    "print (\"Pearson Result:\", pearson)\n",
    "print (\"Spearman Result:\", spearman)\n",
    "print (\"Mutual Info Result:\", mutualinfo)"
   ]
  },
  {
   "cell_type": "code",
   "execution_count": 50,
   "metadata": {},
   "outputs": [
    {
     "name": "stdout",
     "output_type": "stream",
     "text": [
      "Pearson Result: (-0.02209279177683425, 0.40680017776397204)\n",
      "Spearman Result: SpearmanrResult(correlation=-0.0197942540806628, pvalue=0.4573517532127058)\n",
      "Mutual Info Result: 0.10679987273994555\n"
     ]
    }
   ],
   "source": [
    "pearson=pearsonr(HouseTrain4['BsmtHalfBath'],HouseTrain4['SalePrice'])\n",
    "spearman=spearmanr(HouseTrain4['BsmtHalfBath'],HouseTrain4['SalePrice'])\n",
    "mutualinfo=normalized_mutual_info_score(HouseTrain4['BsmtHalfBath'],HouseTrain4['SalePrice'])\n",
    "print (\"Pearson Result:\", pearson)\n",
    "print (\"Spearman Result:\", spearman)\n",
    "print (\"Mutual Info Result:\", mutualinfo)"
   ]
  },
  {
   "cell_type": "code",
   "execution_count": 51,
   "metadata": {},
   "outputs": [
    {
     "name": "stdout",
     "output_type": "stream",
     "text": [
      "Pearson Result: (0.575603736411218, 2.2161120476451563e-125)\n",
      "Spearman Result: SpearmanrResult(correlation=0.6573551792364705, pvalue=1.828866281396646e-175)\n",
      "Mutual Info Result: 0.2496745822767505\n"
     ]
    }
   ],
   "source": [
    "pearson=pearsonr(HouseTrain4['FullBath'],HouseTrain4['SalePrice'])\n",
    "spearman=spearmanr(HouseTrain4['FullBath'],HouseTrain4['SalePrice'])\n",
    "mutualinfo=normalized_mutual_info_score(HouseTrain4['FullBath'],HouseTrain4['SalePrice'])\n",
    "print (\"Pearson Result:\", pearson)\n",
    "print (\"Spearman Result:\", spearman)\n",
    "print (\"Mutual Info Result:\", mutualinfo)"
   ]
  },
  {
   "cell_type": "code",
   "execution_count": 52,
   "metadata": {},
   "outputs": [
    {
     "name": "stdout",
     "output_type": "stream",
     "text": [
      "Pearson Result: (0.27014489320854757, 4.900333676016372e-25)\n",
      "Spearman Result: SpearmanrResult(correlation=0.32752246876528174, pvalue=1.1664032038398308e-36)\n",
      "Mutual Info Result: 0.18267115138109113\n"
     ]
    }
   ],
   "source": [
    "pearson=pearsonr(HouseTrain4['HalfBath'],HouseTrain4['SalePrice'])\n",
    "spearman=spearmanr(HouseTrain4['HalfBath'],HouseTrain4['SalePrice'])\n",
    "mutualinfo=normalized_mutual_info_score(HouseTrain4['HalfBath'],HouseTrain4['SalePrice'])\n",
    "print (\"Pearson Result:\", pearson)\n",
    "print (\"Spearman Result:\", spearman)\n",
    "print (\"Mutual Info Result:\", mutualinfo)"
   ]
  },
  {
   "cell_type": "code",
   "execution_count": 53,
   "metadata": {},
   "outputs": [
    {
     "name": "stdout",
     "output_type": "stream",
     "text": [
      "Pearson Result: (0.17017377668178188, 1.2275700691015822e-10)\n",
      "Spearman Result: SpearmanrResult(correlation=0.23423872933240714, pvalue=4.728345809237837e-19)\n",
      "Mutual Info Result: 0.25381024008139036\n"
     ]
    }
   ],
   "source": [
    "pearson=pearsonr(HouseTrain4['BedroomAbvGr'],HouseTrain4['SalePrice'])\n",
    "spearman=spearmanr(HouseTrain4['BedroomAbvGr'],HouseTrain4['SalePrice'])\n",
    "mutualinfo=normalized_mutual_info_score(HouseTrain4['BedroomAbvGr'],HouseTrain4['SalePrice'])\n",
    "print (\"Pearson Result:\", pearson)\n",
    "print (\"Spearman Result:\", spearman)\n",
    "print (\"Mutual Info Result:\", mutualinfo)"
   ]
  },
  {
   "cell_type": "code",
   "execution_count": 54,
   "metadata": {},
   "outputs": [
    {
     "name": "stdout",
     "output_type": "stream",
     "text": [
      "Pearson Result: (-0.10574279330558853, 6.859699519219687e-05)\n",
      "Spearman Result: SpearmanrResult(correlation=-0.12346543289921841, pvalue=3.2695906310872194e-06)\n",
      "Mutual Info Result: 0.09389723255137883\n"
     ]
    }
   ],
   "source": [
    "pearson=pearsonr(HouseTrain4['KitchenAbvGr'],HouseTrain4['SalePrice'])\n",
    "spearman=spearmanr(HouseTrain4['KitchenAbvGr'],HouseTrain4['SalePrice'])\n",
    "mutualinfo=normalized_mutual_info_score(HouseTrain4['KitchenAbvGr'],HouseTrain4['SalePrice'])\n",
    "print (\"Pearson Result:\", pearson)\n",
    "print (\"Spearman Result:\", spearman)\n",
    "print (\"Mutual Info Result:\", mutualinfo)"
   ]
  },
  {
   "cell_type": "code",
   "execution_count": 55,
   "metadata": {},
   "outputs": [
    {
     "name": "stdout",
     "output_type": "stream",
     "text": [
      "Pearson Result: (-0.5931942237321366, 5.900039336338863e-135)\n",
      "Spearman Result: SpearmanrResult(correlation=-0.5762477276683303, pvalue=1.0122082031471921e-125)\n",
      "Mutual Info Result: 0.2734955472691857\n"
     ]
    }
   ],
   "source": [
    "pearson=pearsonr(HouseTrain4['KitchenQual'],HouseTrain4['SalePrice'])\n",
    "spearman=spearmanr(HouseTrain4['KitchenQual'],HouseTrain4['SalePrice'])\n",
    "mutualinfo=normalized_mutual_info_score(HouseTrain4['KitchenQual'],HouseTrain4['SalePrice'])\n",
    "print (\"Pearson Result:\", pearson)\n",
    "print (\"Spearman Result:\", spearman)\n",
    "print (\"Mutual Info Result:\", mutualinfo)"
   ]
  },
  {
   "cell_type": "code",
   "execution_count": 56,
   "metadata": {},
   "outputs": [
    {
     "name": "stdout",
     "output_type": "stream",
     "text": [
      "Pearson Result: (0.5455395195947099, 2.666563854615473e-110)\n",
      "Spearman Result: SpearmanrResult(correlation=0.5460305458432412, pvalue=1.5553585386134703e-110)\n",
      "Mutual Info Result: 0.3456176057307265\n"
     ]
    }
   ],
   "source": [
    "pearson=pearsonr(HouseTrain4['TotRmsAbvGrd'],HouseTrain4['SalePrice'])\n",
    "spearman=spearmanr(HouseTrain4['TotRmsAbvGrd'],HouseTrain4['SalePrice'])\n",
    "mutualinfo=normalized_mutual_info_score(HouseTrain4['TotRmsAbvGrd'],HouseTrain4['SalePrice'])\n",
    "print (\"Pearson Result:\", pearson)\n",
    "print (\"Spearman Result:\", spearman)\n",
    "print (\"Mutual Info Result:\", mutualinfo)"
   ]
  },
  {
   "cell_type": "code",
   "execution_count": 57,
   "metadata": {},
   "outputs": [
    {
     "name": "stdout",
     "output_type": "stream",
     "text": [
      "Pearson Result: (-0.5931942237321366, 5.900039336338863e-135)\n",
      "Spearman Result: SpearmanrResult(correlation=-0.5762477276683303, pvalue=1.0122082031471921e-125)\n",
      "Mutual Info Result: 0.2734955472691857\n"
     ]
    }
   ],
   "source": [
    "pearson=pearsonr(HouseTrain4['KitchenQual'],HouseTrain4['SalePrice'])\n",
    "spearman=spearmanr(HouseTrain4['KitchenQual'],HouseTrain4['SalePrice'])\n",
    "mutualinfo=normalized_mutual_info_score(HouseTrain4['KitchenQual'],HouseTrain4['SalePrice'])\n",
    "print (\"Pearson Result:\", pearson)\n",
    "print (\"Spearman Result:\", spearman)\n",
    "print (\"Mutual Info Result:\", mutualinfo)"
   ]
  },
  {
   "cell_type": "code",
   "execution_count": 58,
   "metadata": {},
   "outputs": [
    {
     "name": "stdout",
     "output_type": "stream",
     "text": [
      "Pearson Result: (0.10900685045993387, 4.048140878214367e-05)\n",
      "Spearman Result: SpearmanrResult(correlation=0.12149003796391317, pvalue=4.6920623334532575e-06)\n",
      "Mutual Info Result: 0.14331842275505624\n"
     ]
    }
   ],
   "source": [
    "pearson=pearsonr(HouseTrain4['Functional'],HouseTrain4['SalePrice'])\n",
    "spearman=spearmanr(HouseTrain4['Functional'],HouseTrain4['SalePrice'])\n",
    "mutualinfo=normalized_mutual_info_score(HouseTrain4['Functional'],HouseTrain4['SalePrice'])\n",
    "print (\"Pearson Result:\", pearson)\n",
    "print (\"Spearman Result:\", spearman)\n",
    "print (\"Mutual Info Result:\", mutualinfo)"
   ]
  },
  {
   "cell_type": "code",
   "execution_count": 59,
   "metadata": {},
   "outputs": [
    {
     "name": "stdout",
     "output_type": "stream",
     "text": [
      "Pearson Result: (-0.5931942237321366, 5.900039336338863e-135)\n",
      "Spearman Result: SpearmanrResult(correlation=-0.5762477276683303, pvalue=1.0122082031471921e-125)\n",
      "Mutual Info Result: 0.2734955472691857\n"
     ]
    }
   ],
   "source": [
    "pearson=pearsonr(HouseTrain4['KitchenQual'],HouseTrain4['SalePrice'])\n",
    "spearman=spearmanr(HouseTrain4['KitchenQual'],HouseTrain4['SalePrice'])\n",
    "mutualinfo=normalized_mutual_info_score(HouseTrain4['KitchenQual'],HouseTrain4['SalePrice'])\n",
    "print (\"Pearson Result:\", pearson)\n",
    "print (\"Spearman Result:\", spearman)\n",
    "print (\"Mutual Info Result:\", mutualinfo)"
   ]
  },
  {
   "cell_type": "code",
   "execution_count": 60,
   "metadata": {},
   "outputs": [
    {
     "name": "stdout",
     "output_type": "stream",
     "text": [
      "Pearson Result: (0.46293720505995944, 6.492195433046858e-76)\n",
      "Spearman Result: SpearmanrResult(correlation=0.5142514635718979, pvalue=3.757734999048952e-96)\n",
      "Mutual Info Result: 0.2263251643433533\n"
     ]
    }
   ],
   "source": [
    "pearson=pearsonr(HouseTrain4['Fireplaces'],HouseTrain4['SalePrice'])\n",
    "spearman=spearmanr(HouseTrain4['Fireplaces'],HouseTrain4['SalePrice'])\n",
    "mutualinfo=normalized_mutual_info_score(HouseTrain4['Fireplaces'],HouseTrain4['SalePrice'])\n",
    "print (\"Pearson Result:\", pearson)\n",
    "print (\"Spearman Result:\", spearman)\n",
    "print (\"Mutual Info Result:\", mutualinfo)"
   ]
  },
  {
   "cell_type": "code",
   "execution_count": 61,
   "metadata": {},
   "outputs": [
    {
     "name": "stdout",
     "output_type": "stream",
     "text": [
      "Pearson Result: (-0.09831026745710197, 0.00021571983142224148)\n",
      "Spearman Result: SpearmanrResult(correlation=-0.11694976358012775, pvalue=1.0539055893008233e-05)\n",
      "Mutual Info Result: 0.27186318615807653\n"
     ]
    }
   ],
   "source": [
    "pearson=pearsonr(HouseTrain4['FireplaceQu'],HouseTrain4['SalePrice'])\n",
    "spearman=spearmanr(HouseTrain4['FireplaceQu'],HouseTrain4['SalePrice'])\n",
    "mutualinfo=normalized_mutual_info_score(HouseTrain4['FireplaceQu'],HouseTrain4['SalePrice'])\n",
    "print (\"Pearson Result:\", pearson)\n",
    "print (\"Spearman Result:\", spearman)\n",
    "print (\"Mutual Info Result:\", mutualinfo)"
   ]
  },
  {
   "cell_type": "code",
   "execution_count": 62,
   "metadata": {},
   "outputs": [
    {
     "name": "stdout",
     "output_type": "stream",
     "text": [
      "Pearson Result: (-0.4032885632115865, 2.3581324846974777e-56)\n",
      "Spearman Result: SpearmanrResult(correlation=-0.5053996503313033, pvalue=2.073092266231015e-92)\n",
      "Mutual Info Result: 0.2574693461297756\n"
     ]
    }
   ],
   "source": [
    "pearson=pearsonr(HouseTrain4['GarageType'],HouseTrain4['SalePrice'])\n",
    "spearman=spearmanr(HouseTrain4['GarageType'],HouseTrain4['SalePrice'])\n",
    "mutualinfo=normalized_mutual_info_score(HouseTrain4['GarageType'],HouseTrain4['SalePrice'])\n",
    "print (\"Pearson Result:\", pearson)\n",
    "print (\"Spearman Result:\", spearman)\n",
    "print (\"Mutual Info Result:\", mutualinfo)"
   ]
  },
  {
   "cell_type": "code",
   "execution_count": 63,
   "metadata": {},
   "outputs": [
    {
     "name": "stdout",
     "output_type": "stream",
     "text": [
      "Pearson Result: (0.28431623592933053, 1.1539427763563763e-27)\n",
      "Spearman Result: SpearmanrResult(correlation=0.6269375157418691, pvalue=4.487804965800054e-155)\n",
      "Mutual Info Result: 0.6150492807420114\n"
     ]
    }
   ],
   "source": [
    "pearson=pearsonr(HouseTrain4['GarageYrBlt'],HouseTrain4['SalePrice'])\n",
    "spearman=spearmanr(HouseTrain4['GarageYrBlt'],HouseTrain4['SalePrice'])\n",
    "mutualinfo=normalized_mutual_info_score(HouseTrain4['GarageYrBlt'],HouseTrain4['SalePrice'])\n",
    "print (\"Pearson Result:\", pearson)\n",
    "print (\"Spearman Result:\", spearman)\n",
    "print (\"Mutual Info Result:\", mutualinfo)"
   ]
  },
  {
   "cell_type": "code",
   "execution_count": 64,
   "metadata": {},
   "outputs": [
    {
     "name": "stdout",
     "output_type": "stream",
     "text": [
      "Pearson Result: (-0.42669387897717154, 1.4504963322218758e-63)\n",
      "Spearman Result: SpearmanrResult(correlation=-0.4825343296495417, pvalue=3.072985722007529e-83)\n",
      "Mutual Info Result: 0.2733987624616095\n"
     ]
    }
   ],
   "source": [
    "pearson=pearsonr(HouseTrain4['GarageFinish'],HouseTrain4['SalePrice'])\n",
    "spearman=spearmanr(HouseTrain4['GarageFinish'],HouseTrain4['SalePrice'])\n",
    "mutualinfo=normalized_mutual_info_score(HouseTrain4['GarageFinish'],HouseTrain4['SalePrice'])\n",
    "print (\"Pearson Result:\", pearson)\n",
    "print (\"Spearman Result:\", spearman)\n",
    "print (\"Mutual Info Result:\", mutualinfo)"
   ]
  },
  {
   "cell_type": "code",
   "execution_count": 65,
   "metadata": {},
   "outputs": [
    {
     "name": "stdout",
     "output_type": "stream",
     "text": [
      "Pearson Result: (0.6418250974661109, 9.160899360413927e-165)\n",
      "Spearman Result: SpearmanrResult(correlation=0.6969872470131925, pvalue=6.871335574408657e-206)\n",
      "Mutual Info Result: 0.2924902183505666\n"
     ]
    }
   ],
   "source": [
    "pearson=pearsonr(HouseTrain4['GarageCars'],HouseTrain4['SalePrice'])\n",
    "spearman=spearmanr(HouseTrain4['GarageCars'],HouseTrain4['SalePrice'])\n",
    "mutualinfo=normalized_mutual_info_score(HouseTrain4['GarageCars'],HouseTrain4['SalePrice'])\n",
    "print (\"Pearson Result:\", pearson)\n",
    "print (\"Spearman Result:\", spearman)\n",
    "print (\"Mutual Info Result:\", mutualinfo)"
   ]
  },
  {
   "cell_type": "code",
   "execution_count": 66,
   "metadata": {},
   "outputs": [
    {
     "name": "stdout",
     "output_type": "stream",
     "text": [
      "Pearson Result: (0.3683067592478469, 1.3345831136544076e-46)\n",
      "Spearman Result: SpearmanrResult(correlation=0.6495403921282086, pvalue=5.307367975028667e-170)\n",
      "Mutual Info Result: 0.7452915901389012\n"
     ]
    }
   ],
   "source": [
    "pearson=pearsonr(HouseTrain4['GarageArea'],HouseTrain4['SalePrice'])\n",
    "spearman=spearmanr(HouseTrain4['GarageArea'],HouseTrain4['SalePrice'])\n",
    "mutualinfo=normalized_mutual_info_score(HouseTrain4['GarageArea'],HouseTrain4['SalePrice'])\n",
    "print (\"Pearson Result:\", pearson)\n",
    "print (\"Spearman Result:\", spearman)\n",
    "print (\"Mutual Info Result:\", mutualinfo)"
   ]
  },
  {
   "cell_type": "code",
   "execution_count": 67,
   "metadata": {},
   "outputs": [
    {
     "name": "stdout",
     "output_type": "stream",
     "text": [
      "Pearson Result: (0.20428159218755282, 9.096658519796289e-15)\n",
      "Spearman Result: SpearmanrResult(correlation=0.31466520203502485, pvalue=7.994759784703991e-34)\n",
      "Mutual Info Result: 0.17739494865761166\n"
     ]
    }
   ],
   "source": [
    "pearson=pearsonr(HouseTrain4['GarageQual'],HouseTrain4['SalePrice'])\n",
    "spearman=spearmanr(HouseTrain4['GarageQual'],HouseTrain4['SalePrice'])\n",
    "mutualinfo=normalized_mutual_info_score(HouseTrain4['GarageQual'],HouseTrain4['SalePrice'])\n",
    "print (\"Pearson Result:\", pearson)\n",
    "print (\"Spearman Result:\", spearman)\n",
    "print (\"Mutual Info Result:\", mutualinfo)"
   ]
  },
  {
   "cell_type": "code",
   "execution_count": 68,
   "metadata": {},
   "outputs": [
    {
     "name": "stdout",
     "output_type": "stream",
     "text": [
      "Pearson Result: (0.2391458441209631, 8.17463876065463e-20)\n",
      "Spearman Result: SpearmanrResult(correlation=0.33745115338932086, pvalue=6.042862077620392e-39)\n",
      "Mutual Info Result: 0.16506752560712443\n"
     ]
    }
   ],
   "source": [
    "pearson=pearsonr(HouseTrain4['GarageCond'],HouseTrain4['SalePrice'])\n",
    "spearman=spearmanr(HouseTrain4['GarageCond'],HouseTrain4['SalePrice'])\n",
    "mutualinfo=normalized_mutual_info_score(HouseTrain4['GarageCond'],HouseTrain4['SalePrice'])\n",
    "print (\"Pearson Result:\", pearson)\n",
    "print (\"Spearman Result:\", spearman)\n",
    "print (\"Mutual Info Result:\", mutualinfo)"
   ]
  },
  {
   "cell_type": "code",
   "execution_count": 69,
   "metadata": {},
   "outputs": [
    {
     "name": "stdout",
     "output_type": "stream",
     "text": [
      "Pearson Result: (0.21926744812336083, 7.839387047937848e-17)\n",
      "Spearman Result: SpearmanrResult(correlation=0.2674872503182909, pvalue=1.4655213522738713e-24)\n",
      "Mutual Info Result: 0.13471254838515245\n"
     ]
    }
   ],
   "source": [
    "pearson=pearsonr(HouseTrain4['PavedDrive'],HouseTrain4['SalePrice'])\n",
    "spearman=spearmanr(HouseTrain4['PavedDrive'],HouseTrain4['SalePrice'])\n",
    "mutualinfo=normalized_mutual_info_score(HouseTrain4['PavedDrive'],HouseTrain4['SalePrice'])\n",
    "print (\"Pearson Result:\", pearson)\n",
    "print (\"Spearman Result:\", spearman)\n",
    "print (\"Mutual Info Result:\", mutualinfo)"
   ]
  },
  {
   "cell_type": "code",
   "execution_count": 70,
   "metadata": {},
   "outputs": [
    {
     "name": "stdout",
     "output_type": "stream",
     "text": [
      "Pearson Result: (0.3139894135764838, 1.1170242376728215e-33)\n",
      "Spearman Result: SpearmanrResult(correlation=0.34675734852821966, pvalue=3.6437286971972913e-41)\n",
      "Mutual Info Result: 0.5604123677203577\n"
     ]
    }
   ],
   "source": [
    "pearson=pearsonr(HouseTrain4['WoodDeckSF'],HouseTrain4['SalePrice'])\n",
    "spearman=spearmanr(HouseTrain4['WoodDeckSF'],HouseTrain4['SalePrice'])\n",
    "mutualinfo=normalized_mutual_info_score(HouseTrain4['WoodDeckSF'],HouseTrain4['SalePrice'])\n",
    "print (\"Pearson Result:\", pearson)\n",
    "print (\"Spearman Result:\", spearman)\n",
    "print (\"Mutual Info Result:\", mutualinfo)"
   ]
  },
  {
   "cell_type": "code",
   "execution_count": 71,
   "metadata": {},
   "outputs": [
    {
     "name": "stdout",
     "output_type": "stream",
     "text": [
      "Pearson Result: (0.42460037514622845, 6.76143718949e-63)\n",
      "Spearman Result: SpearmanrResult(correlation=0.47290964500420507, pvalue=1.3948988894355344e-79)\n",
      "Mutual Info Result: 0.5862250258393492\n"
     ]
    }
   ],
   "source": [
    "pearson=pearsonr(HouseTrain4['OpenPorchSF'],HouseTrain4['SalePrice'])\n",
    "spearman=spearmanr(HouseTrain4['OpenPorchSF'],HouseTrain4['SalePrice'])\n",
    "mutualinfo=normalized_mutual_info_score(HouseTrain4['OpenPorchSF'],HouseTrain4['SalePrice'])\n",
    "print (\"Pearson Result:\", pearson)\n",
    "print (\"Spearman Result:\", spearman)\n",
    "print (\"Mutual Info Result:\", mutualinfo)"
   ]
  },
  {
   "cell_type": "code",
   "execution_count": 72,
   "metadata": {},
   "outputs": [
    {
     "name": "stdout",
     "output_type": "stream",
     "text": [
      "Pearson Result: (-0.13434194816095998, 4.0493191451036903e-07)\n",
      "Spearman Result: SpearmanrResult(correlation=-0.2315201107017899, pvalue=1.2290644498051684e-18)\n",
      "Mutual Info Result: 0.3103257950525597\n"
     ]
    }
   ],
   "source": [
    "pearson=pearsonr(HouseTrain4['EnclosedPorch'],HouseTrain4['SalePrice'])\n",
    "spearman=spearmanr(HouseTrain4['EnclosedPorch'],HouseTrain4['SalePrice'])\n",
    "mutualinfo=normalized_mutual_info_score(HouseTrain4['EnclosedPorch'],HouseTrain4['SalePrice'])\n",
    "print (\"Pearson Result:\", pearson)\n",
    "print (\"Spearman Result:\", spearman)\n",
    "print (\"Mutual Info Result:\", mutualinfo)"
   ]
  },
  {
   "cell_type": "code",
   "execution_count": 73,
   "metadata": {},
   "outputs": [
    {
     "name": "stdout",
     "output_type": "stream",
     "text": [
      "Pearson Result: (0.047039781012907005, 0.07722701757788951)\n",
      "Spearman Result: SpearmanrResult(correlation=0.07143572836697641, pvalue=0.007245066454831899)\n",
      "Mutual Info Result: 0.10952832640004014\n"
     ]
    }
   ],
   "source": [
    "pearson=pearsonr(HouseTrain4['3SsnPorch'],HouseTrain4['SalePrice'])\n",
    "spearman=spearmanr(HouseTrain4['3SsnPorch'],HouseTrain4['SalePrice'])\n",
    "mutualinfo=normalized_mutual_info_score(HouseTrain4['3SsnPorch'],HouseTrain4['SalePrice'])\n",
    "print (\"Pearson Result:\", pearson)\n",
    "print (\"Spearman Result:\", spearman)\n",
    "print (\"Mutual Info Result:\", mutualinfo)"
   ]
  },
  {
   "cell_type": "code",
   "execution_count": 74,
   "metadata": {},
   "outputs": [
    {
     "name": "stdout",
     "output_type": "stream",
     "text": [
      "Pearson Result: (0.10820807491167209, 4.612165774949011e-05)\n",
      "Spearman Result: SpearmanrResult(correlation=0.09483790752497666, pvalue=0.00035892854081074016)\n",
      "Mutual Info Result: 0.24260467185017695\n"
     ]
    }
   ],
   "source": [
    "pearson=pearsonr(HouseTrain4['ScreenPorch'],HouseTrain4['SalePrice'])\n",
    "spearman=spearmanr(HouseTrain4['ScreenPorch'],HouseTrain4['SalePrice'])\n",
    "mutualinfo=normalized_mutual_info_score(HouseTrain4['ScreenPorch'],HouseTrain4['SalePrice'])\n",
    "print (\"Pearson Result:\", pearson)\n",
    "print (\"Spearman Result:\", spearman)\n",
    "print (\"Mutual Info Result:\", mutualinfo)"
   ]
  },
  {
   "cell_type": "code",
   "execution_count": 75,
   "metadata": {},
   "outputs": [
    {
     "name": "stdout",
     "output_type": "stream",
     "text": [
      "Pearson Result: (0.09277568464285128, 0.00048187067083689614)\n",
      "Spearman Result: SpearmanrResult(correlation=0.05834742186234897, pvalue=0.028348958063061813)\n",
      "Mutual Info Result: 0.0610565571088412\n"
     ]
    }
   ],
   "source": [
    "pearson=pearsonr(HouseTrain4['PoolArea'],HouseTrain4['SalePrice'])\n",
    "spearman=spearmanr(HouseTrain4['PoolArea'],HouseTrain4['SalePrice'])\n",
    "mutualinfo=normalized_mutual_info_score(HouseTrain4['PoolArea'],HouseTrain4['SalePrice'])\n",
    "print (\"Pearson Result:\", pearson)\n",
    "print (\"Spearman Result:\", spearman)\n",
    "print (\"Mutual Info Result:\", mutualinfo)"
   ]
  },
  {
   "cell_type": "code",
   "execution_count": 76,
   "metadata": {},
   "outputs": [
    {
     "name": "stdout",
     "output_type": "stream",
     "text": [
      "Pearson Result: (-0.055002107168300014, 0.038778883735028274)\n",
      "Spearman Result: SpearmanrResult(correlation=-0.0528450695910365, pvalue=0.04710375473143742)\n",
      "Mutual Info Result: 0.14393645648559258\n"
     ]
    }
   ],
   "source": [
    "pearson=pearsonr(HouseTrain4['MiscVal'],HouseTrain4['SalePrice'])\n",
    "spearman=spearmanr(HouseTrain4['MiscVal'],HouseTrain4['SalePrice'])\n",
    "mutualinfo=normalized_mutual_info_score(HouseTrain4['MiscVal'],HouseTrain4['SalePrice'])\n",
    "print (\"Pearson Result:\", pearson)\n",
    "print (\"Spearman Result:\", spearman)\n",
    "print (\"Mutual Info Result:\", mutualinfo)"
   ]
  },
  {
   "cell_type": "code",
   "execution_count": 77,
   "metadata": {},
   "outputs": [
    {
     "name": "stdout",
     "output_type": "stream",
     "text": [
      "Pearson Result: (0.041753654089424094, 0.11682180646189705)\n",
      "Spearman Result: SpearmanrResult(correlation=0.06875814736747614, pvalue=0.009752951083152347)\n",
      "Mutual Info Result: 0.37719733602292876\n"
     ]
    }
   ],
   "source": [
    "pearson=pearsonr(HouseTrain4['MoSold'],HouseTrain4['SalePrice'])\n",
    "spearman=spearmanr(HouseTrain4['MoSold'],HouseTrain4['SalePrice'])\n",
    "mutualinfo=normalized_mutual_info_score(HouseTrain4['MoSold'],HouseTrain4['SalePrice'])\n",
    "print (\"Pearson Result:\", pearson)\n",
    "print (\"Spearman Result:\", spearman)\n",
    "print (\"Mutual Info Result:\", mutualinfo)"
   ]
  },
  {
   "cell_type": "code",
   "execution_count": 78,
   "metadata": {},
   "outputs": [
    {
     "name": "stdout",
     "output_type": "stream",
     "text": [
      "Pearson Result: (-0.023361233549827165, 0.3803901117957714)\n",
      "Spearman Result: SpearmanrResult(correlation=-0.024629906440565966, pvalue=0.35505512775443504)\n",
      "Mutual Info Result: 0.27408464752649253\n"
     ]
    }
   ],
   "source": [
    "pearson=pearsonr(HouseTrain4['YrSold'],HouseTrain4['SalePrice'])\n",
    "spearman=spearmanr(HouseTrain4['YrSold'],HouseTrain4['SalePrice'])\n",
    "mutualinfo=normalized_mutual_info_score(HouseTrain4['YrSold'],HouseTrain4['SalePrice'])\n",
    "print (\"Pearson Result:\", pearson)\n",
    "print (\"Spearman Result:\", spearman)\n",
    "print (\"Mutual Info Result:\", mutualinfo)"
   ]
  },
  {
   "cell_type": "code",
   "execution_count": 79,
   "metadata": {},
   "outputs": [
    {
     "name": "stdout",
     "output_type": "stream",
     "text": [
      "Pearson Result: (-0.04894597766546465, 0.06595990189385655)\n",
      "Spearman Result: SpearmanrResult(correlation=-0.1691109162824437, pvalue=1.6044644252345465e-10)\n",
      "Mutual Info Result: 0.2226521875458585\n"
     ]
    }
   ],
   "source": [
    "pearson=pearsonr(HouseTrain4['SaleType'],HouseTrain4['SalePrice'])\n",
    "spearman=spearmanr(HouseTrain4['SaleType'],HouseTrain4['SalePrice'])\n",
    "mutualinfo=normalized_mutual_info_score(HouseTrain4['SaleType'],HouseTrain4['SalePrice'])\n",
    "print (\"Pearson Result:\", pearson)\n",
    "print (\"Spearman Result:\", spearman)\n",
    "print (\"Mutual Info Result:\", mutualinfo)"
   ]
  },
  {
   "cell_type": "code",
   "execution_count": 80,
   "metadata": {},
   "outputs": [],
   "source": [
    "# Renaming the variables to calculate VIF\n",
    "HouseTrain4= HouseTrain4.rename(columns={'1stFlrSF':'FstFlrSF','2ndFlrSF':'SndFlrSF','3SsnPorch':'ThSsnPorch'})"
   ]
  },
  {
   "cell_type": "code",
   "execution_count": 84,
   "metadata": {},
   "outputs": [],
   "source": [
    "# Calculating VIF for all variables\n",
    "\n",
    "from patsy import dmatrices\n",
    "import statsmodels.api as sm\n",
    "from statsmodels.stats.outliers_influence import variance_inflation_factor\n",
    "pd.set_option('display.max_rows',None)"
   ]
  },
  {
   "cell_type": "code",
   "execution_count": 85,
   "metadata": {},
   "outputs": [],
   "source": [
    "%%capture\n",
    "#gather features\n",
    "features = \"+\".join(HouseTrain4.columns )"
   ]
  },
  {
   "cell_type": "code",
   "execution_count": 86,
   "metadata": {},
   "outputs": [
    {
     "data": {
      "text/html": [
       "<div>\n",
       "<style scoped>\n",
       "    .dataframe tbody tr th:only-of-type {\n",
       "        vertical-align: middle;\n",
       "    }\n",
       "\n",
       "    .dataframe tbody tr th {\n",
       "        vertical-align: top;\n",
       "    }\n",
       "\n",
       "    .dataframe thead th {\n",
       "        text-align: right;\n",
       "    }\n",
       "</style>\n",
       "<table border=\"1\" class=\"dataframe\">\n",
       "  <thead>\n",
       "    <tr style=\"text-align: right;\">\n",
       "      <th></th>\n",
       "      <th>VIF</th>\n",
       "      <th>features</th>\n",
       "    </tr>\n",
       "  </thead>\n",
       "  <tbody>\n",
       "    <tr>\n",
       "      <th>0</th>\n",
       "      <td>4.3</td>\n",
       "      <td>Id</td>\n",
       "    </tr>\n",
       "    <tr>\n",
       "      <th>1</th>\n",
       "      <td>17.0</td>\n",
       "      <td>MSSubClass</td>\n",
       "    </tr>\n",
       "    <tr>\n",
       "      <th>2</th>\n",
       "      <td>32.6</td>\n",
       "      <td>MSZoning</td>\n",
       "    </tr>\n",
       "    <tr>\n",
       "      <th>3</th>\n",
       "      <td>6.8</td>\n",
       "      <td>LotFrontage</td>\n",
       "    </tr>\n",
       "    <tr>\n",
       "      <th>4</th>\n",
       "      <td>864.0</td>\n",
       "      <td>LotArea</td>\n",
       "    </tr>\n",
       "    <tr>\n",
       "      <th>5</th>\n",
       "      <td>275.7</td>\n",
       "      <td>Street</td>\n",
       "    </tr>\n",
       "    <tr>\n",
       "      <th>6</th>\n",
       "      <td>4.0</td>\n",
       "      <td>LotShape</td>\n",
       "    </tr>\n",
       "    <tr>\n",
       "      <th>7</th>\n",
       "      <td>22.0</td>\n",
       "      <td>LandContour</td>\n",
       "    </tr>\n",
       "    <tr>\n",
       "      <th>8</th>\n",
       "      <td>5.1</td>\n",
       "      <td>LotConfig</td>\n",
       "    </tr>\n",
       "    <tr>\n",
       "      <th>9</th>\n",
       "      <td>1.6</td>\n",
       "      <td>LandSlope</td>\n",
       "    </tr>\n",
       "    <tr>\n",
       "      <th>10</th>\n",
       "      <td>6.5</td>\n",
       "      <td>Neighborhood</td>\n",
       "    </tr>\n",
       "    <tr>\n",
       "      <th>11</th>\n",
       "      <td>7.3</td>\n",
       "      <td>Condition1</td>\n",
       "    </tr>\n",
       "    <tr>\n",
       "      <th>12</th>\n",
       "      <td>64.8</td>\n",
       "      <td>Condition2</td>\n",
       "    </tr>\n",
       "    <tr>\n",
       "      <th>13</th>\n",
       "      <td>6.2</td>\n",
       "      <td>BldgType</td>\n",
       "    </tr>\n",
       "    <tr>\n",
       "      <th>14</th>\n",
       "      <td>8.9</td>\n",
       "      <td>HouseStyle</td>\n",
       "    </tr>\n",
       "    <tr>\n",
       "      <th>15</th>\n",
       "      <td>89.2</td>\n",
       "      <td>OverallQual</td>\n",
       "    </tr>\n",
       "    <tr>\n",
       "      <th>16</th>\n",
       "      <td>52.1</td>\n",
       "      <td>OverallCond</td>\n",
       "    </tr>\n",
       "    <tr>\n",
       "      <th>17</th>\n",
       "      <td>32219.5</td>\n",
       "      <td>YearBuilt</td>\n",
       "    </tr>\n",
       "    <tr>\n",
       "      <th>18</th>\n",
       "      <td>26556.1</td>\n",
       "      <td>YearRemodAdd</td>\n",
       "    </tr>\n",
       "    <tr>\n",
       "      <th>19</th>\n",
       "      <td>4.9</td>\n",
       "      <td>RoofStyle</td>\n",
       "    </tr>\n",
       "    <tr>\n",
       "      <th>20</th>\n",
       "      <td>5.1</td>\n",
       "      <td>RoofMatl</td>\n",
       "    </tr>\n",
       "    <tr>\n",
       "      <th>21</th>\n",
       "      <td>36.5</td>\n",
       "      <td>Exterior1st</td>\n",
       "    </tr>\n",
       "    <tr>\n",
       "      <th>22</th>\n",
       "      <td>40.2</td>\n",
       "      <td>Exterior2nd</td>\n",
       "    </tr>\n",
       "    <tr>\n",
       "      <th>23</th>\n",
       "      <td>14.4</td>\n",
       "      <td>MasVnrType</td>\n",
       "    </tr>\n",
       "    <tr>\n",
       "      <th>24</th>\n",
       "      <td>3.4</td>\n",
       "      <td>MasVnrArea</td>\n",
       "    </tr>\n",
       "    <tr>\n",
       "      <th>25</th>\n",
       "      <td>38.7</td>\n",
       "      <td>ExterQual</td>\n",
       "    </tr>\n",
       "    <tr>\n",
       "      <th>26</th>\n",
       "      <td>33.8</td>\n",
       "      <td>ExterCond</td>\n",
       "    </tr>\n",
       "    <tr>\n",
       "      <th>27</th>\n",
       "      <td>12.3</td>\n",
       "      <td>Foundation</td>\n",
       "    </tr>\n",
       "    <tr>\n",
       "      <th>28</th>\n",
       "      <td>18.4</td>\n",
       "      <td>BsmtQual</td>\n",
       "    </tr>\n",
       "    <tr>\n",
       "      <th>29</th>\n",
       "      <td>22.5</td>\n",
       "      <td>BsmtCond</td>\n",
       "    </tr>\n",
       "    <tr>\n",
       "      <th>30</th>\n",
       "      <td>7.7</td>\n",
       "      <td>BsmtExposure</td>\n",
       "    </tr>\n",
       "    <tr>\n",
       "      <th>31</th>\n",
       "      <td>10.8</td>\n",
       "      <td>BsmtFinType1</td>\n",
       "    </tr>\n",
       "    <tr>\n",
       "      <th>32</th>\n",
       "      <td>22.3</td>\n",
       "      <td>BsmtFinSF1</td>\n",
       "    </tr>\n",
       "    <tr>\n",
       "      <th>33</th>\n",
       "      <td>108.0</td>\n",
       "      <td>BsmtFinType2</td>\n",
       "    </tr>\n",
       "    <tr>\n",
       "      <th>34</th>\n",
       "      <td>5.1</td>\n",
       "      <td>BsmtFinSF2</td>\n",
       "    </tr>\n",
       "    <tr>\n",
       "      <th>35</th>\n",
       "      <td>16.0</td>\n",
       "      <td>BsmtUnfSF</td>\n",
       "    </tr>\n",
       "    <tr>\n",
       "      <th>36</th>\n",
       "      <td>72.7</td>\n",
       "      <td>TotalBsmtSF</td>\n",
       "    </tr>\n",
       "    <tr>\n",
       "      <th>37</th>\n",
       "      <td>1.4</td>\n",
       "      <td>Heating</td>\n",
       "    </tr>\n",
       "    <tr>\n",
       "      <th>38</th>\n",
       "      <td>2.9</td>\n",
       "      <td>HeatingQC</td>\n",
       "    </tr>\n",
       "    <tr>\n",
       "      <th>39</th>\n",
       "      <td>29.9</td>\n",
       "      <td>CentralAir</td>\n",
       "    </tr>\n",
       "    <tr>\n",
       "      <th>40</th>\n",
       "      <td>18.4</td>\n",
       "      <td>Electrical</td>\n",
       "    </tr>\n",
       "    <tr>\n",
       "      <th>41</th>\n",
       "      <td>186.6</td>\n",
       "      <td>FstFlrSF</td>\n",
       "    </tr>\n",
       "    <tr>\n",
       "      <th>42</th>\n",
       "      <td>25.2</td>\n",
       "      <td>SndFlrSF</td>\n",
       "    </tr>\n",
       "    <tr>\n",
       "      <th>43</th>\n",
       "      <td>1.5</td>\n",
       "      <td>LowQualFinSF</td>\n",
       "    </tr>\n",
       "    <tr>\n",
       "      <th>44</th>\n",
       "      <td>221.4</td>\n",
       "      <td>GrLivArea</td>\n",
       "    </tr>\n",
       "    <tr>\n",
       "      <th>45</th>\n",
       "      <td>3.9</td>\n",
       "      <td>BsmtFullBath</td>\n",
       "    </tr>\n",
       "    <tr>\n",
       "      <th>46</th>\n",
       "      <td>1.3</td>\n",
       "      <td>BsmtHalfBath</td>\n",
       "    </tr>\n",
       "    <tr>\n",
       "      <th>47</th>\n",
       "      <td>29.1</td>\n",
       "      <td>FullBath</td>\n",
       "    </tr>\n",
       "    <tr>\n",
       "      <th>48</th>\n",
       "      <td>3.9</td>\n",
       "      <td>HalfBath</td>\n",
       "    </tr>\n",
       "    <tr>\n",
       "      <th>49</th>\n",
       "      <td>36.4</td>\n",
       "      <td>BedroomAbvGr</td>\n",
       "    </tr>\n",
       "    <tr>\n",
       "      <th>50</th>\n",
       "      <td>47.9</td>\n",
       "      <td>KitchenAbvGr</td>\n",
       "    </tr>\n",
       "    <tr>\n",
       "      <th>51</th>\n",
       "      <td>18.9</td>\n",
       "      <td>KitchenQual</td>\n",
       "    </tr>\n",
       "    <tr>\n",
       "      <th>52</th>\n",
       "      <td>92.5</td>\n",
       "      <td>TotRmsAbvGrd</td>\n",
       "    </tr>\n",
       "    <tr>\n",
       "      <th>53</th>\n",
       "      <td>47.5</td>\n",
       "      <td>Functional</td>\n",
       "    </tr>\n",
       "    <tr>\n",
       "      <th>54</th>\n",
       "      <td>3.3</td>\n",
       "      <td>Fireplaces</td>\n",
       "    </tr>\n",
       "    <tr>\n",
       "      <th>55</th>\n",
       "      <td>9.9</td>\n",
       "      <td>FireplaceQu</td>\n",
       "    </tr>\n",
       "    <tr>\n",
       "      <th>56</th>\n",
       "      <td>5.7</td>\n",
       "      <td>GarageType</td>\n",
       "    </tr>\n",
       "    <tr>\n",
       "      <th>57</th>\n",
       "      <td>5664.9</td>\n",
       "      <td>GarageYrBlt</td>\n",
       "    </tr>\n",
       "    <tr>\n",
       "      <th>58</th>\n",
       "      <td>6.2</td>\n",
       "      <td>GarageFinish</td>\n",
       "    </tr>\n",
       "    <tr>\n",
       "      <th>59</th>\n",
       "      <td>46.0</td>\n",
       "      <td>GarageCars</td>\n",
       "    </tr>\n",
       "    <tr>\n",
       "      <th>60</th>\n",
       "      <td>1347.5</td>\n",
       "      <td>GarageArea</td>\n",
       "    </tr>\n",
       "    <tr>\n",
       "      <th>61</th>\n",
       "      <td>56.6</td>\n",
       "      <td>GarageQual</td>\n",
       "    </tr>\n",
       "    <tr>\n",
       "      <th>62</th>\n",
       "      <td>77.6</td>\n",
       "      <td>GarageCond</td>\n",
       "    </tr>\n",
       "    <tr>\n",
       "      <th>63</th>\n",
       "      <td>24.7</td>\n",
       "      <td>PavedDrive</td>\n",
       "    </tr>\n",
       "    <tr>\n",
       "      <th>64</th>\n",
       "      <td>2.6</td>\n",
       "      <td>WoodDeckSF</td>\n",
       "    </tr>\n",
       "    <tr>\n",
       "      <th>65</th>\n",
       "      <td>3.3</td>\n",
       "      <td>OpenPorchSF</td>\n",
       "    </tr>\n",
       "    <tr>\n",
       "      <th>66</th>\n",
       "      <td>1.5</td>\n",
       "      <td>EnclosedPorch</td>\n",
       "    </tr>\n",
       "    <tr>\n",
       "      <th>67</th>\n",
       "      <td>1.1</td>\n",
       "      <td>ThSsnPorch</td>\n",
       "    </tr>\n",
       "    <tr>\n",
       "      <th>68</th>\n",
       "      <td>1.2</td>\n",
       "      <td>ScreenPorch</td>\n",
       "    </tr>\n",
       "    <tr>\n",
       "      <th>69</th>\n",
       "      <td>1.2</td>\n",
       "      <td>PoolArea</td>\n",
       "    </tr>\n",
       "    <tr>\n",
       "      <th>70</th>\n",
       "      <td>1.1</td>\n",
       "      <td>MiscVal</td>\n",
       "    </tr>\n",
       "    <tr>\n",
       "      <th>71</th>\n",
       "      <td>6.8</td>\n",
       "      <td>MoSold</td>\n",
       "    </tr>\n",
       "    <tr>\n",
       "      <th>72</th>\n",
       "      <td>42887.1</td>\n",
       "      <td>YrSold</td>\n",
       "    </tr>\n",
       "    <tr>\n",
       "      <th>73</th>\n",
       "      <td>27.9</td>\n",
       "      <td>SaleType</td>\n",
       "    </tr>\n",
       "    <tr>\n",
       "      <th>74</th>\n",
       "      <td>15.4</td>\n",
       "      <td>SaleCondition</td>\n",
       "    </tr>\n",
       "    <tr>\n",
       "      <th>75</th>\n",
       "      <td>42.1</td>\n",
       "      <td>SalePrice</td>\n",
       "    </tr>\n",
       "  </tbody>\n",
       "</table>\n",
       "</div>"
      ],
      "text/plain": [
       "        VIF       features\n",
       "0       4.3             Id\n",
       "1      17.0     MSSubClass\n",
       "2      32.6       MSZoning\n",
       "3       6.8    LotFrontage\n",
       "4     864.0        LotArea\n",
       "5     275.7         Street\n",
       "6       4.0       LotShape\n",
       "7      22.0    LandContour\n",
       "8       5.1      LotConfig\n",
       "9       1.6      LandSlope\n",
       "10      6.5   Neighborhood\n",
       "11      7.3     Condition1\n",
       "12     64.8     Condition2\n",
       "13      6.2       BldgType\n",
       "14      8.9     HouseStyle\n",
       "15     89.2    OverallQual\n",
       "16     52.1    OverallCond\n",
       "17  32219.5      YearBuilt\n",
       "18  26556.1   YearRemodAdd\n",
       "19      4.9      RoofStyle\n",
       "20      5.1       RoofMatl\n",
       "21     36.5    Exterior1st\n",
       "22     40.2    Exterior2nd\n",
       "23     14.4     MasVnrType\n",
       "24      3.4     MasVnrArea\n",
       "25     38.7      ExterQual\n",
       "26     33.8      ExterCond\n",
       "27     12.3     Foundation\n",
       "28     18.4       BsmtQual\n",
       "29     22.5       BsmtCond\n",
       "30      7.7   BsmtExposure\n",
       "31     10.8   BsmtFinType1\n",
       "32     22.3     BsmtFinSF1\n",
       "33    108.0   BsmtFinType2\n",
       "34      5.1     BsmtFinSF2\n",
       "35     16.0      BsmtUnfSF\n",
       "36     72.7    TotalBsmtSF\n",
       "37      1.4        Heating\n",
       "38      2.9      HeatingQC\n",
       "39     29.9     CentralAir\n",
       "40     18.4     Electrical\n",
       "41    186.6       FstFlrSF\n",
       "42     25.2       SndFlrSF\n",
       "43      1.5   LowQualFinSF\n",
       "44    221.4      GrLivArea\n",
       "45      3.9   BsmtFullBath\n",
       "46      1.3   BsmtHalfBath\n",
       "47     29.1       FullBath\n",
       "48      3.9       HalfBath\n",
       "49     36.4   BedroomAbvGr\n",
       "50     47.9   KitchenAbvGr\n",
       "51     18.9    KitchenQual\n",
       "52     92.5   TotRmsAbvGrd\n",
       "53     47.5     Functional\n",
       "54      3.3     Fireplaces\n",
       "55      9.9    FireplaceQu\n",
       "56      5.7     GarageType\n",
       "57   5664.9    GarageYrBlt\n",
       "58      6.2   GarageFinish\n",
       "59     46.0     GarageCars\n",
       "60   1347.5     GarageArea\n",
       "61     56.6     GarageQual\n",
       "62     77.6     GarageCond\n",
       "63     24.7     PavedDrive\n",
       "64      2.6     WoodDeckSF\n",
       "65      3.3    OpenPorchSF\n",
       "66      1.5  EnclosedPorch\n",
       "67      1.1     ThSsnPorch\n",
       "68      1.2    ScreenPorch\n",
       "69      1.2       PoolArea\n",
       "70      1.1        MiscVal\n",
       "71      6.8         MoSold\n",
       "72  42887.1         YrSold\n",
       "73     27.9       SaleType\n",
       "74     15.4  SaleCondition\n",
       "75     42.1      SalePrice"
      ]
     },
     "execution_count": 86,
     "metadata": {},
     "output_type": "execute_result"
    }
   ],
   "source": [
    "# get y and X dataframes based on this regression:\n",
    "y, X = dmatrices('SalePrice ~' + features, HouseTrain4, return_type='dataframe')\n",
    "# Calculate VIF Factors VIF= (1/(1- Rsquared)\n",
    "vif = pd.DataFrame()\n",
    "vif[\"VIF\"] = [variance_inflation_factor(HouseTrain4.values, i) for i in range(HouseTrain4.shape[1])]\n",
    "vif[\"features\"] = HouseTrain4.columns\n",
    "# Identify variables with multicollinearity. If VIF is > 10, then drop the variable\n",
    "vif.round(1)"
   ]
  },
  {
   "cell_type": "code",
   "execution_count": 87,
   "metadata": {},
   "outputs": [],
   "source": [
    "# Removing Year Sold\n",
    "\n",
    "HouseTrain5=HouseTrain4.copy()"
   ]
  },
  {
   "cell_type": "code",
   "execution_count": 88,
   "metadata": {},
   "outputs": [],
   "source": [
    "HouseTrain5=HouseTrain5.drop(columns=['YrSold'])"
   ]
  },
  {
   "cell_type": "code",
   "execution_count": 89,
   "metadata": {},
   "outputs": [],
   "source": [
    "%%capture\n",
    "#gather features\n",
    "features = \"+\".join(HouseTrain5.columns )\n",
    "# get y and X dataframes based on this regression:\n",
    "y, X = dmatrices('SalePrice ~' + features, HouseTrain5, return_type='dataframe')\n",
    "# Calculate VIF Factors VIF= (1/(1- Rsquared)\n",
    "vif = pd.DataFrame()\n",
    "vif[\"VIF\"] = [variance_inflation_factor(HouseTrain5.values, i) for i in range(HouseTrain5.shape[1])]\n",
    "vif[\"features\"] = HouseTrain5.columns\n"
   ]
  },
  {
   "cell_type": "code",
   "execution_count": 90,
   "metadata": {},
   "outputs": [
    {
     "data": {
      "text/html": [
       "<div>\n",
       "<style scoped>\n",
       "    .dataframe tbody tr th:only-of-type {\n",
       "        vertical-align: middle;\n",
       "    }\n",
       "\n",
       "    .dataframe tbody tr th {\n",
       "        vertical-align: top;\n",
       "    }\n",
       "\n",
       "    .dataframe thead th {\n",
       "        text-align: right;\n",
       "    }\n",
       "</style>\n",
       "<table border=\"1\" class=\"dataframe\">\n",
       "  <thead>\n",
       "    <tr style=\"text-align: right;\">\n",
       "      <th></th>\n",
       "      <th>VIF</th>\n",
       "      <th>features</th>\n",
       "    </tr>\n",
       "  </thead>\n",
       "  <tbody>\n",
       "    <tr>\n",
       "      <th>0</th>\n",
       "      <td>4.3</td>\n",
       "      <td>Id</td>\n",
       "    </tr>\n",
       "    <tr>\n",
       "      <th>1</th>\n",
       "      <td>16.9</td>\n",
       "      <td>MSSubClass</td>\n",
       "    </tr>\n",
       "    <tr>\n",
       "      <th>2</th>\n",
       "      <td>32.1</td>\n",
       "      <td>MSZoning</td>\n",
       "    </tr>\n",
       "    <tr>\n",
       "      <th>3</th>\n",
       "      <td>6.8</td>\n",
       "      <td>LotFrontage</td>\n",
       "    </tr>\n",
       "    <tr>\n",
       "      <th>4</th>\n",
       "      <td>837.1</td>\n",
       "      <td>LotArea</td>\n",
       "    </tr>\n",
       "    <tr>\n",
       "      <th>5</th>\n",
       "      <td>274.7</td>\n",
       "      <td>Street</td>\n",
       "    </tr>\n",
       "    <tr>\n",
       "      <th>6</th>\n",
       "      <td>3.9</td>\n",
       "      <td>LotShape</td>\n",
       "    </tr>\n",
       "    <tr>\n",
       "      <th>7</th>\n",
       "      <td>22.0</td>\n",
       "      <td>LandContour</td>\n",
       "    </tr>\n",
       "    <tr>\n",
       "      <th>8</th>\n",
       "      <td>5.1</td>\n",
       "      <td>LotConfig</td>\n",
       "    </tr>\n",
       "    <tr>\n",
       "      <th>9</th>\n",
       "      <td>1.6</td>\n",
       "      <td>LandSlope</td>\n",
       "    </tr>\n",
       "    <tr>\n",
       "      <th>10</th>\n",
       "      <td>6.5</td>\n",
       "      <td>Neighborhood</td>\n",
       "    </tr>\n",
       "    <tr>\n",
       "      <th>11</th>\n",
       "      <td>7.3</td>\n",
       "      <td>Condition1</td>\n",
       "    </tr>\n",
       "    <tr>\n",
       "      <th>12</th>\n",
       "      <td>64.8</td>\n",
       "      <td>Condition2</td>\n",
       "    </tr>\n",
       "    <tr>\n",
       "      <th>13</th>\n",
       "      <td>6.2</td>\n",
       "      <td>BldgType</td>\n",
       "    </tr>\n",
       "    <tr>\n",
       "      <th>14</th>\n",
       "      <td>8.8</td>\n",
       "      <td>HouseStyle</td>\n",
       "    </tr>\n",
       "    <tr>\n",
       "      <th>15</th>\n",
       "      <td>88.4</td>\n",
       "      <td>OverallQual</td>\n",
       "    </tr>\n",
       "    <tr>\n",
       "      <th>16</th>\n",
       "      <td>51.8</td>\n",
       "      <td>OverallCond</td>\n",
       "    </tr>\n",
       "    <tr>\n",
       "      <th>17</th>\n",
       "      <td>19552.4</td>\n",
       "      <td>YearBuilt</td>\n",
       "    </tr>\n",
       "    <tr>\n",
       "      <th>18</th>\n",
       "      <td>19159.4</td>\n",
       "      <td>YearRemodAdd</td>\n",
       "    </tr>\n",
       "    <tr>\n",
       "      <th>19</th>\n",
       "      <td>4.9</td>\n",
       "      <td>RoofStyle</td>\n",
       "    </tr>\n",
       "    <tr>\n",
       "      <th>20</th>\n",
       "      <td>5.1</td>\n",
       "      <td>RoofMatl</td>\n",
       "    </tr>\n",
       "    <tr>\n",
       "      <th>21</th>\n",
       "      <td>36.5</td>\n",
       "      <td>Exterior1st</td>\n",
       "    </tr>\n",
       "    <tr>\n",
       "      <th>22</th>\n",
       "      <td>40.2</td>\n",
       "      <td>Exterior2nd</td>\n",
       "    </tr>\n",
       "    <tr>\n",
       "      <th>23</th>\n",
       "      <td>14.4</td>\n",
       "      <td>MasVnrType</td>\n",
       "    </tr>\n",
       "    <tr>\n",
       "      <th>24</th>\n",
       "      <td>3.4</td>\n",
       "      <td>MasVnrArea</td>\n",
       "    </tr>\n",
       "    <tr>\n",
       "      <th>25</th>\n",
       "      <td>38.6</td>\n",
       "      <td>ExterQual</td>\n",
       "    </tr>\n",
       "    <tr>\n",
       "      <th>26</th>\n",
       "      <td>33.7</td>\n",
       "      <td>ExterCond</td>\n",
       "    </tr>\n",
       "    <tr>\n",
       "      <th>27</th>\n",
       "      <td>11.3</td>\n",
       "      <td>Foundation</td>\n",
       "    </tr>\n",
       "    <tr>\n",
       "      <th>28</th>\n",
       "      <td>18.3</td>\n",
       "      <td>BsmtQual</td>\n",
       "    </tr>\n",
       "    <tr>\n",
       "      <th>29</th>\n",
       "      <td>22.4</td>\n",
       "      <td>BsmtCond</td>\n",
       "    </tr>\n",
       "    <tr>\n",
       "      <th>30</th>\n",
       "      <td>7.6</td>\n",
       "      <td>BsmtExposure</td>\n",
       "    </tr>\n",
       "    <tr>\n",
       "      <th>31</th>\n",
       "      <td>10.8</td>\n",
       "      <td>BsmtFinType1</td>\n",
       "    </tr>\n",
       "    <tr>\n",
       "      <th>32</th>\n",
       "      <td>22.2</td>\n",
       "      <td>BsmtFinSF1</td>\n",
       "    </tr>\n",
       "    <tr>\n",
       "      <th>33</th>\n",
       "      <td>107.8</td>\n",
       "      <td>BsmtFinType2</td>\n",
       "    </tr>\n",
       "    <tr>\n",
       "      <th>34</th>\n",
       "      <td>5.1</td>\n",
       "      <td>BsmtFinSF2</td>\n",
       "    </tr>\n",
       "    <tr>\n",
       "      <th>35</th>\n",
       "      <td>16.0</td>\n",
       "      <td>BsmtUnfSF</td>\n",
       "    </tr>\n",
       "    <tr>\n",
       "      <th>36</th>\n",
       "      <td>72.5</td>\n",
       "      <td>TotalBsmtSF</td>\n",
       "    </tr>\n",
       "    <tr>\n",
       "      <th>37</th>\n",
       "      <td>1.4</td>\n",
       "      <td>Heating</td>\n",
       "    </tr>\n",
       "    <tr>\n",
       "      <th>38</th>\n",
       "      <td>2.8</td>\n",
       "      <td>HeatingQC</td>\n",
       "    </tr>\n",
       "    <tr>\n",
       "      <th>39</th>\n",
       "      <td>29.0</td>\n",
       "      <td>CentralAir</td>\n",
       "    </tr>\n",
       "    <tr>\n",
       "      <th>40</th>\n",
       "      <td>18.1</td>\n",
       "      <td>Electrical</td>\n",
       "    </tr>\n",
       "    <tr>\n",
       "      <th>41</th>\n",
       "      <td>186.4</td>\n",
       "      <td>FstFlrSF</td>\n",
       "    </tr>\n",
       "    <tr>\n",
       "      <th>42</th>\n",
       "      <td>25.2</td>\n",
       "      <td>SndFlrSF</td>\n",
       "    </tr>\n",
       "    <tr>\n",
       "      <th>43</th>\n",
       "      <td>1.5</td>\n",
       "      <td>LowQualFinSF</td>\n",
       "    </tr>\n",
       "    <tr>\n",
       "      <th>44</th>\n",
       "      <td>220.0</td>\n",
       "      <td>GrLivArea</td>\n",
       "    </tr>\n",
       "    <tr>\n",
       "      <th>45</th>\n",
       "      <td>3.9</td>\n",
       "      <td>BsmtFullBath</td>\n",
       "    </tr>\n",
       "    <tr>\n",
       "      <th>46</th>\n",
       "      <td>1.3</td>\n",
       "      <td>BsmtHalfBath</td>\n",
       "    </tr>\n",
       "    <tr>\n",
       "      <th>47</th>\n",
       "      <td>27.3</td>\n",
       "      <td>FullBath</td>\n",
       "    </tr>\n",
       "    <tr>\n",
       "      <th>48</th>\n",
       "      <td>3.8</td>\n",
       "      <td>HalfBath</td>\n",
       "    </tr>\n",
       "    <tr>\n",
       "      <th>49</th>\n",
       "      <td>36.4</td>\n",
       "      <td>BedroomAbvGr</td>\n",
       "    </tr>\n",
       "    <tr>\n",
       "      <th>50</th>\n",
       "      <td>47.8</td>\n",
       "      <td>KitchenAbvGr</td>\n",
       "    </tr>\n",
       "    <tr>\n",
       "      <th>51</th>\n",
       "      <td>18.8</td>\n",
       "      <td>KitchenQual</td>\n",
       "    </tr>\n",
       "    <tr>\n",
       "      <th>52</th>\n",
       "      <td>92.3</td>\n",
       "      <td>TotRmsAbvGrd</td>\n",
       "    </tr>\n",
       "    <tr>\n",
       "      <th>53</th>\n",
       "      <td>47.3</td>\n",
       "      <td>Functional</td>\n",
       "    </tr>\n",
       "    <tr>\n",
       "      <th>54</th>\n",
       "      <td>3.2</td>\n",
       "      <td>Fireplaces</td>\n",
       "    </tr>\n",
       "    <tr>\n",
       "      <th>55</th>\n",
       "      <td>9.9</td>\n",
       "      <td>FireplaceQu</td>\n",
       "    </tr>\n",
       "    <tr>\n",
       "      <th>56</th>\n",
       "      <td>5.5</td>\n",
       "      <td>GarageType</td>\n",
       "    </tr>\n",
       "    <tr>\n",
       "      <th>57</th>\n",
       "      <td>5635.1</td>\n",
       "      <td>GarageYrBlt</td>\n",
       "    </tr>\n",
       "    <tr>\n",
       "      <th>58</th>\n",
       "      <td>6.1</td>\n",
       "      <td>GarageFinish</td>\n",
       "    </tr>\n",
       "    <tr>\n",
       "      <th>59</th>\n",
       "      <td>45.9</td>\n",
       "      <td>GarageCars</td>\n",
       "    </tr>\n",
       "    <tr>\n",
       "      <th>60</th>\n",
       "      <td>1344.1</td>\n",
       "      <td>GarageArea</td>\n",
       "    </tr>\n",
       "    <tr>\n",
       "      <th>61</th>\n",
       "      <td>56.3</td>\n",
       "      <td>GarageQual</td>\n",
       "    </tr>\n",
       "    <tr>\n",
       "      <th>62</th>\n",
       "      <td>77.6</td>\n",
       "      <td>GarageCond</td>\n",
       "    </tr>\n",
       "    <tr>\n",
       "      <th>63</th>\n",
       "      <td>24.5</td>\n",
       "      <td>PavedDrive</td>\n",
       "    </tr>\n",
       "    <tr>\n",
       "      <th>64</th>\n",
       "      <td>2.6</td>\n",
       "      <td>WoodDeckSF</td>\n",
       "    </tr>\n",
       "    <tr>\n",
       "      <th>65</th>\n",
       "      <td>3.3</td>\n",
       "      <td>OpenPorchSF</td>\n",
       "    </tr>\n",
       "    <tr>\n",
       "      <th>66</th>\n",
       "      <td>1.4</td>\n",
       "      <td>EnclosedPorch</td>\n",
       "    </tr>\n",
       "    <tr>\n",
       "      <th>67</th>\n",
       "      <td>1.1</td>\n",
       "      <td>ThSsnPorch</td>\n",
       "    </tr>\n",
       "    <tr>\n",
       "      <th>68</th>\n",
       "      <td>1.2</td>\n",
       "      <td>ScreenPorch</td>\n",
       "    </tr>\n",
       "    <tr>\n",
       "      <th>69</th>\n",
       "      <td>1.2</td>\n",
       "      <td>PoolArea</td>\n",
       "    </tr>\n",
       "    <tr>\n",
       "      <th>70</th>\n",
       "      <td>1.1</td>\n",
       "      <td>MiscVal</td>\n",
       "    </tr>\n",
       "    <tr>\n",
       "      <th>71</th>\n",
       "      <td>6.8</td>\n",
       "      <td>MoSold</td>\n",
       "    </tr>\n",
       "    <tr>\n",
       "      <th>72</th>\n",
       "      <td>27.9</td>\n",
       "      <td>SaleType</td>\n",
       "    </tr>\n",
       "    <tr>\n",
       "      <th>73</th>\n",
       "      <td>15.3</td>\n",
       "      <td>SaleCondition</td>\n",
       "    </tr>\n",
       "    <tr>\n",
       "      <th>74</th>\n",
       "      <td>41.7</td>\n",
       "      <td>SalePrice</td>\n",
       "    </tr>\n",
       "  </tbody>\n",
       "</table>\n",
       "</div>"
      ],
      "text/plain": [
       "        VIF       features\n",
       "0       4.3             Id\n",
       "1      16.9     MSSubClass\n",
       "2      32.1       MSZoning\n",
       "3       6.8    LotFrontage\n",
       "4     837.1        LotArea\n",
       "5     274.7         Street\n",
       "6       3.9       LotShape\n",
       "7      22.0    LandContour\n",
       "8       5.1      LotConfig\n",
       "9       1.6      LandSlope\n",
       "10      6.5   Neighborhood\n",
       "11      7.3     Condition1\n",
       "12     64.8     Condition2\n",
       "13      6.2       BldgType\n",
       "14      8.8     HouseStyle\n",
       "15     88.4    OverallQual\n",
       "16     51.8    OverallCond\n",
       "17  19552.4      YearBuilt\n",
       "18  19159.4   YearRemodAdd\n",
       "19      4.9      RoofStyle\n",
       "20      5.1       RoofMatl\n",
       "21     36.5    Exterior1st\n",
       "22     40.2    Exterior2nd\n",
       "23     14.4     MasVnrType\n",
       "24      3.4     MasVnrArea\n",
       "25     38.6      ExterQual\n",
       "26     33.7      ExterCond\n",
       "27     11.3     Foundation\n",
       "28     18.3       BsmtQual\n",
       "29     22.4       BsmtCond\n",
       "30      7.6   BsmtExposure\n",
       "31     10.8   BsmtFinType1\n",
       "32     22.2     BsmtFinSF1\n",
       "33    107.8   BsmtFinType2\n",
       "34      5.1     BsmtFinSF2\n",
       "35     16.0      BsmtUnfSF\n",
       "36     72.5    TotalBsmtSF\n",
       "37      1.4        Heating\n",
       "38      2.8      HeatingQC\n",
       "39     29.0     CentralAir\n",
       "40     18.1     Electrical\n",
       "41    186.4       FstFlrSF\n",
       "42     25.2       SndFlrSF\n",
       "43      1.5   LowQualFinSF\n",
       "44    220.0      GrLivArea\n",
       "45      3.9   BsmtFullBath\n",
       "46      1.3   BsmtHalfBath\n",
       "47     27.3       FullBath\n",
       "48      3.8       HalfBath\n",
       "49     36.4   BedroomAbvGr\n",
       "50     47.8   KitchenAbvGr\n",
       "51     18.8    KitchenQual\n",
       "52     92.3   TotRmsAbvGrd\n",
       "53     47.3     Functional\n",
       "54      3.2     Fireplaces\n",
       "55      9.9    FireplaceQu\n",
       "56      5.5     GarageType\n",
       "57   5635.1    GarageYrBlt\n",
       "58      6.1   GarageFinish\n",
       "59     45.9     GarageCars\n",
       "60   1344.1     GarageArea\n",
       "61     56.3     GarageQual\n",
       "62     77.6     GarageCond\n",
       "63     24.5     PavedDrive\n",
       "64      2.6     WoodDeckSF\n",
       "65      3.3    OpenPorchSF\n",
       "66      1.4  EnclosedPorch\n",
       "67      1.1     ThSsnPorch\n",
       "68      1.2    ScreenPorch\n",
       "69      1.2       PoolArea\n",
       "70      1.1        MiscVal\n",
       "71      6.8         MoSold\n",
       "72     27.9       SaleType\n",
       "73     15.3  SaleCondition\n",
       "74     41.7      SalePrice"
      ]
     },
     "execution_count": 90,
     "metadata": {},
     "output_type": "execute_result"
    }
   ],
   "source": [
    "# Identify variables with multicollinearity. \n",
    "vif.round(1)"
   ]
  },
  {
   "cell_type": "code",
   "execution_count": 91,
   "metadata": {},
   "outputs": [],
   "source": [
    "# Removing year-related variables\n",
    "\n",
    "HouseTrain6=HouseTrain5.copy()\n",
    "\n",
    "HouseTrain6=HouseTrain6.drop(columns=['YearBuilt','YearRemodAdd','GarageYrBlt'])"
   ]
  },
  {
   "cell_type": "code",
   "execution_count": 92,
   "metadata": {},
   "outputs": [],
   "source": [
    "%%capture\n",
    "#gather features\n",
    "features = \"+\".join(HouseTrain6.columns )\n",
    "# get y and X dataframes based on this regression:\n",
    "y, X = dmatrices('SalePrice ~' + features, HouseTrain6, return_type='dataframe')\n",
    "# Calculate VIF Factors VIF= (1/(1- Rsquared)\n",
    "vif = pd.DataFrame()\n",
    "vif[\"VIF\"] = [variance_inflation_factor(HouseTrain6.values, i) for i in range(HouseTrain6.shape[1])]\n",
    "vif[\"features\"] = HouseTrain6.columns"
   ]
  },
  {
   "cell_type": "code",
   "execution_count": 93,
   "metadata": {},
   "outputs": [
    {
     "data": {
      "text/html": [
       "<div>\n",
       "<style scoped>\n",
       "    .dataframe tbody tr th:only-of-type {\n",
       "        vertical-align: middle;\n",
       "    }\n",
       "\n",
       "    .dataframe tbody tr th {\n",
       "        vertical-align: top;\n",
       "    }\n",
       "\n",
       "    .dataframe thead th {\n",
       "        text-align: right;\n",
       "    }\n",
       "</style>\n",
       "<table border=\"1\" class=\"dataframe\">\n",
       "  <thead>\n",
       "    <tr style=\"text-align: right;\">\n",
       "      <th></th>\n",
       "      <th>VIF</th>\n",
       "      <th>features</th>\n",
       "    </tr>\n",
       "  </thead>\n",
       "  <tbody>\n",
       "    <tr>\n",
       "      <th>0</th>\n",
       "      <td>4.3</td>\n",
       "      <td>Id</td>\n",
       "    </tr>\n",
       "    <tr>\n",
       "      <th>1</th>\n",
       "      <td>16.9</td>\n",
       "      <td>MSSubClass</td>\n",
       "    </tr>\n",
       "    <tr>\n",
       "      <th>2</th>\n",
       "      <td>31.1</td>\n",
       "      <td>MSZoning</td>\n",
       "    </tr>\n",
       "    <tr>\n",
       "      <th>3</th>\n",
       "      <td>6.8</td>\n",
       "      <td>LotFrontage</td>\n",
       "    </tr>\n",
       "    <tr>\n",
       "      <th>4</th>\n",
       "      <td>439.8</td>\n",
       "      <td>LotArea</td>\n",
       "    </tr>\n",
       "    <tr>\n",
       "      <th>5</th>\n",
       "      <td>227.9</td>\n",
       "      <td>Street</td>\n",
       "    </tr>\n",
       "    <tr>\n",
       "      <th>6</th>\n",
       "      <td>3.9</td>\n",
       "      <td>LotShape</td>\n",
       "    </tr>\n",
       "    <tr>\n",
       "      <th>7</th>\n",
       "      <td>21.7</td>\n",
       "      <td>LandContour</td>\n",
       "    </tr>\n",
       "    <tr>\n",
       "      <th>8</th>\n",
       "      <td>5.1</td>\n",
       "      <td>LotConfig</td>\n",
       "    </tr>\n",
       "    <tr>\n",
       "      <th>9</th>\n",
       "      <td>1.6</td>\n",
       "      <td>LandSlope</td>\n",
       "    </tr>\n",
       "    <tr>\n",
       "      <th>10</th>\n",
       "      <td>6.5</td>\n",
       "      <td>Neighborhood</td>\n",
       "    </tr>\n",
       "    <tr>\n",
       "      <th>11</th>\n",
       "      <td>7.2</td>\n",
       "      <td>Condition1</td>\n",
       "    </tr>\n",
       "    <tr>\n",
       "      <th>12</th>\n",
       "      <td>63.2</td>\n",
       "      <td>Condition2</td>\n",
       "    </tr>\n",
       "    <tr>\n",
       "      <th>13</th>\n",
       "      <td>5.8</td>\n",
       "      <td>BldgType</td>\n",
       "    </tr>\n",
       "    <tr>\n",
       "      <th>14</th>\n",
       "      <td>8.6</td>\n",
       "      <td>HouseStyle</td>\n",
       "    </tr>\n",
       "    <tr>\n",
       "      <th>15</th>\n",
       "      <td>85.7</td>\n",
       "      <td>OverallQual</td>\n",
       "    </tr>\n",
       "    <tr>\n",
       "      <th>16</th>\n",
       "      <td>39.8</td>\n",
       "      <td>OverallCond</td>\n",
       "    </tr>\n",
       "    <tr>\n",
       "      <th>17</th>\n",
       "      <td>4.9</td>\n",
       "      <td>RoofStyle</td>\n",
       "    </tr>\n",
       "    <tr>\n",
       "      <th>18</th>\n",
       "      <td>5.0</td>\n",
       "      <td>RoofMatl</td>\n",
       "    </tr>\n",
       "    <tr>\n",
       "      <th>19</th>\n",
       "      <td>36.4</td>\n",
       "      <td>Exterior1st</td>\n",
       "    </tr>\n",
       "    <tr>\n",
       "      <th>20</th>\n",
       "      <td>40.0</td>\n",
       "      <td>Exterior2nd</td>\n",
       "    </tr>\n",
       "    <tr>\n",
       "      <th>21</th>\n",
       "      <td>14.1</td>\n",
       "      <td>MasVnrType</td>\n",
       "    </tr>\n",
       "    <tr>\n",
       "      <th>22</th>\n",
       "      <td>3.3</td>\n",
       "      <td>MasVnrArea</td>\n",
       "    </tr>\n",
       "    <tr>\n",
       "      <th>23</th>\n",
       "      <td>38.5</td>\n",
       "      <td>ExterQual</td>\n",
       "    </tr>\n",
       "    <tr>\n",
       "      <th>24</th>\n",
       "      <td>32.9</td>\n",
       "      <td>ExterCond</td>\n",
       "    </tr>\n",
       "    <tr>\n",
       "      <th>25</th>\n",
       "      <td>10.8</td>\n",
       "      <td>Foundation</td>\n",
       "    </tr>\n",
       "    <tr>\n",
       "      <th>26</th>\n",
       "      <td>18.2</td>\n",
       "      <td>BsmtQual</td>\n",
       "    </tr>\n",
       "    <tr>\n",
       "      <th>27</th>\n",
       "      <td>22.2</td>\n",
       "      <td>BsmtCond</td>\n",
       "    </tr>\n",
       "    <tr>\n",
       "      <th>28</th>\n",
       "      <td>7.6</td>\n",
       "      <td>BsmtExposure</td>\n",
       "    </tr>\n",
       "    <tr>\n",
       "      <th>29</th>\n",
       "      <td>10.6</td>\n",
       "      <td>BsmtFinType1</td>\n",
       "    </tr>\n",
       "    <tr>\n",
       "      <th>30</th>\n",
       "      <td>21.6</td>\n",
       "      <td>BsmtFinSF1</td>\n",
       "    </tr>\n",
       "    <tr>\n",
       "      <th>31</th>\n",
       "      <td>102.7</td>\n",
       "      <td>BsmtFinType2</td>\n",
       "    </tr>\n",
       "    <tr>\n",
       "      <th>32</th>\n",
       "      <td>4.9</td>\n",
       "      <td>BsmtFinSF2</td>\n",
       "    </tr>\n",
       "    <tr>\n",
       "      <th>33</th>\n",
       "      <td>15.7</td>\n",
       "      <td>BsmtUnfSF</td>\n",
       "    </tr>\n",
       "    <tr>\n",
       "      <th>34</th>\n",
       "      <td>70.9</td>\n",
       "      <td>TotalBsmtSF</td>\n",
       "    </tr>\n",
       "    <tr>\n",
       "      <th>35</th>\n",
       "      <td>1.4</td>\n",
       "      <td>Heating</td>\n",
       "    </tr>\n",
       "    <tr>\n",
       "      <th>36</th>\n",
       "      <td>2.8</td>\n",
       "      <td>HeatingQC</td>\n",
       "    </tr>\n",
       "    <tr>\n",
       "      <th>37</th>\n",
       "      <td>28.7</td>\n",
       "      <td>CentralAir</td>\n",
       "    </tr>\n",
       "    <tr>\n",
       "      <th>38</th>\n",
       "      <td>18.0</td>\n",
       "      <td>Electrical</td>\n",
       "    </tr>\n",
       "    <tr>\n",
       "      <th>39</th>\n",
       "      <td>182.8</td>\n",
       "      <td>FstFlrSF</td>\n",
       "    </tr>\n",
       "    <tr>\n",
       "      <th>40</th>\n",
       "      <td>24.9</td>\n",
       "      <td>SndFlrSF</td>\n",
       "    </tr>\n",
       "    <tr>\n",
       "      <th>41</th>\n",
       "      <td>1.5</td>\n",
       "      <td>LowQualFinSF</td>\n",
       "    </tr>\n",
       "    <tr>\n",
       "      <th>42</th>\n",
       "      <td>215.1</td>\n",
       "      <td>GrLivArea</td>\n",
       "    </tr>\n",
       "    <tr>\n",
       "      <th>43</th>\n",
       "      <td>3.9</td>\n",
       "      <td>BsmtFullBath</td>\n",
       "    </tr>\n",
       "    <tr>\n",
       "      <th>44</th>\n",
       "      <td>1.3</td>\n",
       "      <td>BsmtHalfBath</td>\n",
       "    </tr>\n",
       "    <tr>\n",
       "      <th>45</th>\n",
       "      <td>27.0</td>\n",
       "      <td>FullBath</td>\n",
       "    </tr>\n",
       "    <tr>\n",
       "      <th>46</th>\n",
       "      <td>3.7</td>\n",
       "      <td>HalfBath</td>\n",
       "    </tr>\n",
       "    <tr>\n",
       "      <th>47</th>\n",
       "      <td>35.9</td>\n",
       "      <td>BedroomAbvGr</td>\n",
       "    </tr>\n",
       "    <tr>\n",
       "      <th>48</th>\n",
       "      <td>47.6</td>\n",
       "      <td>KitchenAbvGr</td>\n",
       "    </tr>\n",
       "    <tr>\n",
       "      <th>49</th>\n",
       "      <td>18.6</td>\n",
       "      <td>KitchenQual</td>\n",
       "    </tr>\n",
       "    <tr>\n",
       "      <th>50</th>\n",
       "      <td>91.8</td>\n",
       "      <td>TotRmsAbvGrd</td>\n",
       "    </tr>\n",
       "    <tr>\n",
       "      <th>51</th>\n",
       "      <td>46.1</td>\n",
       "      <td>Functional</td>\n",
       "    </tr>\n",
       "    <tr>\n",
       "      <th>52</th>\n",
       "      <td>3.2</td>\n",
       "      <td>Fireplaces</td>\n",
       "    </tr>\n",
       "    <tr>\n",
       "      <th>53</th>\n",
       "      <td>9.7</td>\n",
       "      <td>FireplaceQu</td>\n",
       "    </tr>\n",
       "    <tr>\n",
       "      <th>54</th>\n",
       "      <td>5.3</td>\n",
       "      <td>GarageType</td>\n",
       "    </tr>\n",
       "    <tr>\n",
       "      <th>55</th>\n",
       "      <td>6.1</td>\n",
       "      <td>GarageFinish</td>\n",
       "    </tr>\n",
       "    <tr>\n",
       "      <th>56</th>\n",
       "      <td>28.0</td>\n",
       "      <td>GarageCars</td>\n",
       "    </tr>\n",
       "    <tr>\n",
       "      <th>57</th>\n",
       "      <td>67.8</td>\n",
       "      <td>GarageArea</td>\n",
       "    </tr>\n",
       "    <tr>\n",
       "      <th>58</th>\n",
       "      <td>55.4</td>\n",
       "      <td>GarageQual</td>\n",
       "    </tr>\n",
       "    <tr>\n",
       "      <th>59</th>\n",
       "      <td>77.1</td>\n",
       "      <td>GarageCond</td>\n",
       "    </tr>\n",
       "    <tr>\n",
       "      <th>60</th>\n",
       "      <td>23.2</td>\n",
       "      <td>PavedDrive</td>\n",
       "    </tr>\n",
       "    <tr>\n",
       "      <th>61</th>\n",
       "      <td>2.6</td>\n",
       "      <td>WoodDeckSF</td>\n",
       "    </tr>\n",
       "    <tr>\n",
       "      <th>62</th>\n",
       "      <td>3.3</td>\n",
       "      <td>OpenPorchSF</td>\n",
       "    </tr>\n",
       "    <tr>\n",
       "      <th>63</th>\n",
       "      <td>1.4</td>\n",
       "      <td>EnclosedPorch</td>\n",
       "    </tr>\n",
       "    <tr>\n",
       "      <th>64</th>\n",
       "      <td>1.1</td>\n",
       "      <td>ThSsnPorch</td>\n",
       "    </tr>\n",
       "    <tr>\n",
       "      <th>65</th>\n",
       "      <td>1.2</td>\n",
       "      <td>ScreenPorch</td>\n",
       "    </tr>\n",
       "    <tr>\n",
       "      <th>66</th>\n",
       "      <td>1.1</td>\n",
       "      <td>PoolArea</td>\n",
       "    </tr>\n",
       "    <tr>\n",
       "      <th>67</th>\n",
       "      <td>1.1</td>\n",
       "      <td>MiscVal</td>\n",
       "    </tr>\n",
       "    <tr>\n",
       "      <th>68</th>\n",
       "      <td>6.8</td>\n",
       "      <td>MoSold</td>\n",
       "    </tr>\n",
       "    <tr>\n",
       "      <th>69</th>\n",
       "      <td>27.6</td>\n",
       "      <td>SaleType</td>\n",
       "    </tr>\n",
       "    <tr>\n",
       "      <th>70</th>\n",
       "      <td>15.3</td>\n",
       "      <td>SaleCondition</td>\n",
       "    </tr>\n",
       "    <tr>\n",
       "      <th>71</th>\n",
       "      <td>41.4</td>\n",
       "      <td>SalePrice</td>\n",
       "    </tr>\n",
       "  </tbody>\n",
       "</table>\n",
       "</div>"
      ],
      "text/plain": [
       "      VIF       features\n",
       "0     4.3             Id\n",
       "1    16.9     MSSubClass\n",
       "2    31.1       MSZoning\n",
       "3     6.8    LotFrontage\n",
       "4   439.8        LotArea\n",
       "5   227.9         Street\n",
       "6     3.9       LotShape\n",
       "7    21.7    LandContour\n",
       "8     5.1      LotConfig\n",
       "9     1.6      LandSlope\n",
       "10    6.5   Neighborhood\n",
       "11    7.2     Condition1\n",
       "12   63.2     Condition2\n",
       "13    5.8       BldgType\n",
       "14    8.6     HouseStyle\n",
       "15   85.7    OverallQual\n",
       "16   39.8    OverallCond\n",
       "17    4.9      RoofStyle\n",
       "18    5.0       RoofMatl\n",
       "19   36.4    Exterior1st\n",
       "20   40.0    Exterior2nd\n",
       "21   14.1     MasVnrType\n",
       "22    3.3     MasVnrArea\n",
       "23   38.5      ExterQual\n",
       "24   32.9      ExterCond\n",
       "25   10.8     Foundation\n",
       "26   18.2       BsmtQual\n",
       "27   22.2       BsmtCond\n",
       "28    7.6   BsmtExposure\n",
       "29   10.6   BsmtFinType1\n",
       "30   21.6     BsmtFinSF1\n",
       "31  102.7   BsmtFinType2\n",
       "32    4.9     BsmtFinSF2\n",
       "33   15.7      BsmtUnfSF\n",
       "34   70.9    TotalBsmtSF\n",
       "35    1.4        Heating\n",
       "36    2.8      HeatingQC\n",
       "37   28.7     CentralAir\n",
       "38   18.0     Electrical\n",
       "39  182.8       FstFlrSF\n",
       "40   24.9       SndFlrSF\n",
       "41    1.5   LowQualFinSF\n",
       "42  215.1      GrLivArea\n",
       "43    3.9   BsmtFullBath\n",
       "44    1.3   BsmtHalfBath\n",
       "45   27.0       FullBath\n",
       "46    3.7       HalfBath\n",
       "47   35.9   BedroomAbvGr\n",
       "48   47.6   KitchenAbvGr\n",
       "49   18.6    KitchenQual\n",
       "50   91.8   TotRmsAbvGrd\n",
       "51   46.1     Functional\n",
       "52    3.2     Fireplaces\n",
       "53    9.7    FireplaceQu\n",
       "54    5.3     GarageType\n",
       "55    6.1   GarageFinish\n",
       "56   28.0     GarageCars\n",
       "57   67.8     GarageArea\n",
       "58   55.4     GarageQual\n",
       "59   77.1     GarageCond\n",
       "60   23.2     PavedDrive\n",
       "61    2.6     WoodDeckSF\n",
       "62    3.3    OpenPorchSF\n",
       "63    1.4  EnclosedPorch\n",
       "64    1.1     ThSsnPorch\n",
       "65    1.2    ScreenPorch\n",
       "66    1.1       PoolArea\n",
       "67    1.1        MiscVal\n",
       "68    6.8         MoSold\n",
       "69   27.6       SaleType\n",
       "70   15.3  SaleCondition\n",
       "71   41.4      SalePrice"
      ]
     },
     "execution_count": 93,
     "metadata": {},
     "output_type": "execute_result"
    }
   ],
   "source": [
    "vif.round(1)"
   ]
  },
  {
   "cell_type": "code",
   "execution_count": null,
   "metadata": {},
   "outputs": [],
   "source": [
    "# Adaboost"
   ]
  },
  {
   "cell_type": "code",
   "execution_count": 106,
   "metadata": {},
   "outputs": [],
   "source": [
    "from sklearn import tree\n",
    "from sklearn.model_selection import train_test_split\n",
    "from sklearn.model_selection import cross_validate\n",
    "from sklearn.ensemble import AdaBoostRegressor\n",
    "model1 = AdaBoostRegressor(tree.DecisionTreeRegressor())\n",
    "model3 = tree.DecisionTreeRegressor()"
   ]
  },
  {
   "cell_type": "code",
   "execution_count": 95,
   "metadata": {},
   "outputs": [
    {
     "name": "stderr",
     "output_type": "stream",
     "text": [
      "/Users/plutobot/anaconda3/lib/python3.7/site-packages/sklearn/utils/validation.py:578: DataConversionWarning: A column-vector y was passed when a 1d array was expected. Please change the shape of y to (n_samples, ), for example using ravel().\n",
      "  y = column_or_1d(y, warn=True)\n"
     ]
    },
    {
     "name": "stdout",
     "output_type": "stream",
     "text": [
      "AdaBoostRegressor(base_estimator=DecisionTreeRegressor(criterion='mse', max_depth=None, max_features=None,\n",
      "           max_leaf_nodes=None, min_impurity_decrease=0.0,\n",
      "           min_impurity_split=None, min_samples_leaf=1,\n",
      "           min_samples_split=2, min_weight_fraction_leaf=0.0,\n",
      "           presort=False, random_state=None, splitter='best'),\n",
      "         learning_rate=1.0, loss='linear', n_estimators=50,\n",
      "         random_state=None)\n",
      "[230000. 214000. 228500. 194201. 204000. 239799. 152000. 148500. 180000.\n",
      " 183500. 135000. 126500. 395192. 111000. 159500. 240000. 299800. 275000.\n",
      " 191000. 325000. 157000. 181134. 171000. 163900. 120000. 143000. 170000.\n",
      " 175000. 190000. 148000. 129500. 168500. 129900. 129500. 175500. 173900.\n",
      "  96500. 377426. 290000. 119200. 142125. 175500. 297000. 270000. 177500.\n",
      "  93500. 139000. 155000. 402000. 164000. 232000. 129900. 110000. 108000.\n",
      " 380000. 128500. 177500. 160000. 260000. 158900. 102000. 174000. 186700.\n",
      " 350000. 138500. 162900. 173000. 216000. 101000. 221000. 134500. 160000.\n",
      " 275000. 143500. 285000. 188500. 160000. 258000. 225000. 116050. 200500.\n",
      " 182900. 194500. 159500. 145250. 149000. 253293. 169900. 248900. 166000.\n",
      " 186500. 136500. 137000.  64500. 142000. 123600. 139500. 158000.  86000.\n",
      " 341000. 132500. 160200. 174000. 159000. 240000. 145000. 108000. 168000.\n",
      " 167500. 187500. 173000. 555000. 194000. 143000. 173000. 105000. 254000.\n",
      " 144000. 315000. 140000. 130500. 164990. 173000. 148000. 109500. 210000.\n",
      " 256000. 110500. 170000. 129000. 394432. 162000. 146000. 142500. 290000.\n",
      " 199900. 186500. 250000. 142600. 140000. 127500. 197000. 157000. 230500.\n",
      " 210000. 188000. 145000. 141000. 176432. 121600. 235000. 214000. 128000.\n",
      " 194201.  96500. 170000. 187500. 180000. 123600. 318061. 145000. 174000.\n",
      " 139000. 118400. 133900. 222500. 165000. 162000. 155000. 140000. 181000.\n",
      " 105000. 148800. 215000. 335000. 159000. 112000. 194500. 239000. 148500.\n",
      " 187000. 221000. 148800. 162900. 265979. 190000.  82500. 160000. 152000.\n",
      " 140000. 133700. 155000. 179665. 157000. 174500. 153337. 128000. 248000.\n",
      " 325300. 236000. 200000. 216837. 164990. 167000. 123000.  94500. 195000.\n",
      " 112500. 290000. 200000. 225000. 123000. 335000. 144000. 118500. 146000.\n",
      " 142500. 142500. 260000. 197000. 200500. 197000. 110000. 136900. 271900.\n",
      " 175500. 127000. 438780. 124500. 134000. 129000. 167900. 219500. 142600.\n",
      " 268000. 150000. 167000. 173000. 314813. 485000. 175000. 170000. 320000.\n",
      " 130000.  95000. 185000. 149000. 141000. 180500. 145000. 440000. 189000.\n",
      " 122900. 174000. 259000. 303477. 230000. 129000. 152000. 302000. 342643.\n",
      " 164700. 108959. 174500. 132500. 176432. 275000. 137500. 185000. 141000.\n",
      " 314813. 124500. 141000. 149000. 190000.  86000. 100000. 256000. 148000.\n",
      " 143000. 212000. 119500. 219500. 270000. 136500. 240000. 135960. 180000.\n",
      " 305000. 111250.  75500. 262500. 117000. 129900. 168500. 211000. 191000.\n",
      " 173900. 142500. 179900. 189950. 163000. 139000. 221000. 125000. 260000.\n",
      " 142500. 142000. 194500. 170000. 230000. 194000. 219500. 175900. 127500.\n",
      " 160000. 172785. 160000. 108000. 190000. 137000. 203000. 120000. 143000.\n",
      " 167000. 325300. 173900. 199900. 188500. 145000. 149000. 133000. 167000.\n",
      " 139000. 319000. 215000. 126175. 190000. 139000. 210000. 168000. 179665.\n",
      " 178400. 236000. 228500. 202900.  91300. 272000. 221500. 190000. 274725.\n",
      " 125000.  86000. 135000. 128500. 106500. 367294. 120000. 133000. 219500.\n",
      " 402000. 191000.  80000. 173000. 187500. 110000. 139000. 173000. 220000.\n",
      " 206900. 333168. 129500. 335000. 100000. 205000. 194500. 137000. 165000.\n",
      " 235128. 190000. 158000. 361919. 350000. 115000. 145000. 144000. 171500.\n",
      " 175500. 180500. 139900. 164700. 174500. 187500. 212000. 133000. 130000.\n",
      " 174000. 141000. 136000. 141000. 133000. 149900. 138000. 240000. 170000.\n",
      " 148000. 167000. 108000. 271900. 133000.  58500. 149000. 258000. 127000.\n",
      " 190000. 145900. 385000. 192140. 145500. 144000. 125000. 116500. 170000.\n",
      " 119200. 121000. 272000. 138800. 127000. 160000. 192000. 280000. 172785.\n",
      " 139000. 165000. 116000. 255000. 187500. 132000. 184000. 268000. 153900.\n",
      " 185500. 141000. 625000. 143900. 119000. 299800. 215000. 226000. 194000.\n",
      " 149350.  95000. 144000. 194500. 175000. 147000. 111250. 225000. 255500.\n",
      " 297000. 267000. 181134. 118500. 192500. 228500. 151000.]\n",
      "0.8705375190864285\n"
     ]
    },
    {
     "name": "stderr",
     "output_type": "stream",
     "text": [
      "/Users/plutobot/anaconda3/lib/python3.7/site-packages/sklearn/utils/validation.py:578: DataConversionWarning: A column-vector y was passed when a 1d array was expected. Please change the shape of y to (n_samples, ), for example using ravel().\n",
      "  y = column_or_1d(y, warn=True)\n",
      "/Users/plutobot/anaconda3/lib/python3.7/site-packages/sklearn/utils/validation.py:578: DataConversionWarning: A column-vector y was passed when a 1d array was expected. Please change the shape of y to (n_samples, ), for example using ravel().\n",
      "  y = column_or_1d(y, warn=True)\n",
      "/Users/plutobot/anaconda3/lib/python3.7/site-packages/sklearn/utils/validation.py:578: DataConversionWarning: A column-vector y was passed when a 1d array was expected. Please change the shape of y to (n_samples, ), for example using ravel().\n",
      "  y = column_or_1d(y, warn=True)\n",
      "/Users/plutobot/anaconda3/lib/python3.7/site-packages/sklearn/utils/validation.py:578: DataConversionWarning: A column-vector y was passed when a 1d array was expected. Please change the shape of y to (n_samples, ), for example using ravel().\n",
      "  y = column_or_1d(y, warn=True)\n",
      "/Users/plutobot/anaconda3/lib/python3.7/site-packages/sklearn/utils/validation.py:578: DataConversionWarning: A column-vector y was passed when a 1d array was expected. Please change the shape of y to (n_samples, ), for example using ravel().\n",
      "  y = column_or_1d(y, warn=True)\n",
      "/Users/plutobot/anaconda3/lib/python3.7/site-packages/sklearn/utils/validation.py:578: DataConversionWarning: A column-vector y was passed when a 1d array was expected. Please change the shape of y to (n_samples, ), for example using ravel().\n",
      "  y = column_or_1d(y, warn=True)\n",
      "/Users/plutobot/anaconda3/lib/python3.7/site-packages/sklearn/utils/validation.py:578: DataConversionWarning: A column-vector y was passed when a 1d array was expected. Please change the shape of y to (n_samples, ), for example using ravel().\n",
      "  y = column_or_1d(y, warn=True)\n",
      "/Users/plutobot/anaconda3/lib/python3.7/site-packages/sklearn/utils/validation.py:578: DataConversionWarning: A column-vector y was passed when a 1d array was expected. Please change the shape of y to (n_samples, ), for example using ravel().\n",
      "  y = column_or_1d(y, warn=True)\n",
      "/Users/plutobot/anaconda3/lib/python3.7/site-packages/sklearn/utils/validation.py:578: DataConversionWarning: A column-vector y was passed when a 1d array was expected. Please change the shape of y to (n_samples, ), for example using ravel().\n",
      "  y = column_or_1d(y, warn=True)\n",
      "/Users/plutobot/anaconda3/lib/python3.7/site-packages/sklearn/utils/validation.py:578: DataConversionWarning: A column-vector y was passed when a 1d array was expected. Please change the shape of y to (n_samples, ), for example using ravel().\n",
      "  y = column_or_1d(y, warn=True)\n"
     ]
    },
    {
     "name": "stdout",
     "output_type": "stream",
     "text": [
      "   fit_time  score_time  test_score  train_score\n",
      "0  0.553971    0.004091    0.833106     0.999561\n",
      "1  0.550697    0.003919    0.876461     0.999534\n",
      "2  0.546051    0.003941    0.887253     0.999573\n",
      "3  0.516865    0.004123    0.768648     0.999584\n",
      "4  0.510081    0.003999    0.882536     0.999560\n",
      "5  0.524450    0.003981    0.866437     0.999502\n",
      "6  0.560826    0.003939    0.879593     0.999618\n",
      "7  0.534331    0.005425    0.843733     0.999673\n",
      "8  0.540462    0.003968    0.873321     0.999577\n",
      "9  0.525044    0.003885    0.853763     0.999600\n"
     ]
    },
    {
     "name": "stderr",
     "output_type": "stream",
     "text": [
      "/Users/plutobot/anaconda3/lib/python3.7/site-packages/sklearn/utils/deprecation.py:122: FutureWarning: You are accessing a training score ('train_score'), which will not be available by default any more in 0.21. If you need training scores, please set return_train_score=True\n",
      "  warnings.warn(*warn_args, **warn_kwargs)\n"
     ]
    }
   ],
   "source": [
    "X1=HouseTrain6[['LotArea','FstFlrSF','BsmtUnfSF','TotalBsmtSF','GrLivArea','GarageArea','BsmtFinSF1','OpenPorchSF','LotFrontage','SndFlrSF','WoodDeckSF','MasVnrArea','Neighborhood','MSSubClass',\n",
    "               'OverallQual','TotRmsAbvGrd','Exterior2nd','Exterior1st','EnclosedPorch']]\n",
    "Y1=HouseTrain6[['SalePrice']]\n",
    "test_size=0.33\n",
    "\n",
    "seed =7\n",
    "# split the dataset\n",
    "X_train, X_test, Y_train,Y_test=train_test_split(X1,Y1,test_size=test_size,random_state=seed)\n",
    "print(model1.fit(X_train, Y_train))\n",
    "print(model1.predict(X_test))\n",
    "print(model1.score(X_test,Y_test))\n",
    "print(pd.DataFrame(cross_validate(model1, X1, Y1, cv=10)))"
   ]
  },
  {
   "cell_type": "code",
   "execution_count": 96,
   "metadata": {},
   "outputs": [],
   "source": [
    "# Linear Regression\n",
    "Y2=Y1['SalePrice'].values\n",
    "X2=X1.values\n",
    "test_size=0.33\n",
    "seed =7\n",
    "# split the dataset\n",
    "X_train, X_test, Y_train,Y_test=train_test_split(X2,Y2,test_size=test_size,random_state=seed)\n",
    "model=LinearRegression()\n"
   ]
  },
  {
   "cell_type": "code",
   "execution_count": 97,
   "metadata": {},
   "outputs": [
    {
     "data": {
      "text/plain": [
       "LinearRegression(copy_X=True, fit_intercept=True, n_jobs=1, normalize=False)"
      ]
     },
     "execution_count": 97,
     "metadata": {},
     "output_type": "execute_result"
    }
   ],
   "source": [
    "# Train the model using the training sub-dataset\n",
    "model.fit(X_train,Y_train)"
   ]
  },
  {
   "cell_type": "code",
   "execution_count": 99,
   "metadata": {},
   "outputs": [
    {
     "name": "stdout",
     "output_type": "stream",
     "text": [
      "Rsquared using Pearson's r 0.7659618926969127\n"
     ]
    }
   ],
   "source": [
    "# Calculate the R2 value\n",
    "LinearR_squared=model.score(X_test,Y_test)\n",
    "print(\"Rsquared using Pearson's r\", LinearR_squared)"
   ]
  },
  {
   "cell_type": "code",
   "execution_count": 107,
   "metadata": {},
   "outputs": [
    {
     "name": "stdout",
     "output_type": "stream",
     "text": [
      "DecisionTreeRegressor(criterion='mse', max_depth=None, max_features=None,\n",
      "           max_leaf_nodes=None, min_impurity_decrease=0.0,\n",
      "           min_impurity_split=None, min_samples_leaf=1,\n",
      "           min_samples_split=2, min_weight_fraction_leaf=0.0,\n",
      "           presort=False, random_state=None, splitter='best')\n",
      "[260400. 203000. 248000. 194000. 233000. 235000. 136900. 155000. 217500.\n",
      " 169000. 147000. 139500. 555000.  97000. 140000. 260400. 325300. 275000.\n",
      " 179600. 290000. 162500. 173000. 186700. 187500. 116000. 152000. 163900.\n",
      " 187000. 208500. 155000. 125000. 173900. 131500. 142500. 157500. 167900.\n",
      " 115000. 394432. 268000. 134500. 129500. 196000. 270000. 228500. 185000.\n",
      "  90350. 145500. 147400. 412500. 163000. 254000. 133700. 126000. 108000.\n",
      " 430000. 130000. 145900. 179900. 219500. 163500.  79900. 163900. 172000.\n",
      " 345000. 145500. 149500. 173000. 224500.  94500. 221500. 134500. 171500.\n",
      " 230000. 163500. 325000. 189000. 177000. 227000. 204000. 124500. 162900.\n",
      " 175500. 170000. 148000. 164000. 210000. 295493. 205000. 210000. 162900.\n",
      " 192140. 115000. 152000.  58500. 148000.  79900. 152000. 160000. 125000.\n",
      " 336000. 132500. 161000. 187000. 166000. 232000. 165500. 117000. 219500.\n",
      " 159000. 163900. 192140. 555000. 200141. 143500. 175000. 117000. 225000.\n",
      " 143000. 336000. 118400. 125000. 181000. 181000. 145000. 115000. 150900.\n",
      " 231500. 115000. 192000. 128000. 451950. 177000. 146000.  88000. 325000.\n",
      " 167500. 180500. 320000. 135000. 161500. 124000. 188500. 152000. 168000.\n",
      " 202500. 172000. 161000. 157500. 145000. 125000. 257500. 203000. 153575.\n",
      " 194201. 116000. 179200. 170000. 173000. 127000. 394432. 157000. 235000.\n",
      " 107000. 108500. 149900. 167500. 175500. 120500. 176000. 162900. 219500.\n",
      " 130000. 151000. 231500. 267000. 169000.  85000. 194000. 249700. 153337.\n",
      " 181000. 222000. 151000. 175500. 262280. 160200.  37900. 147400. 138000.\n",
      " 152000. 134500. 165500. 157000. 158000. 174500. 155000.  68400. 294000.\n",
      " 325000. 226000. 163500. 226000. 160200. 106000. 116050.  94500. 195000.\n",
      " 109500. 290000. 214500. 245500. 147000. 342643. 144900. 152000. 145000.\n",
      " 120000. 127000. 232000. 219500. 106000. 188500. 116000. 177500. 289000.\n",
      " 188000. 117000. 424870. 115000. 130000. 118000. 139000. 253000.  95000.\n",
      " 226000. 154000.  95000. 194201. 328900. 386250. 120000. 156932. 310000.\n",
      " 130000.  97000.  82500. 217000. 161000. 180500. 144900. 538000. 202500.\n",
      " 100000. 207500. 221000. 340000. 248000. 143250. 124900. 302000. 320000.\n",
      " 164700. 100000. 164990. 139000. 161500. 251000. 137500. 175500. 160000.\n",
      " 314813. 115000. 161000. 155900. 194000.  35311.  58500. 257500. 136900.\n",
      " 112500. 212000. 117000. 170000. 257000. 151000. 240000. 125000. 173000.\n",
      " 290000. 108000.  86000. 248000. 121000. 139000. 177000. 200500. 187100.\n",
      " 153575. 149900. 106000. 200000. 169500. 122900. 227000. 154000. 289000.\n",
      " 143750. 144900. 250580. 181500. 240000. 190000. 253000. 163500. 110000.\n",
      " 157500. 182900. 137000. 121600. 250580. 137000. 241000. 117500. 143500.\n",
      " 190000. 342643. 153575. 219500. 202900. 189000. 174900. 137000. 149500.\n",
      " 124000. 451950. 217000.  79900. 241000. 148000. 222000. 178900. 162900.\n",
      " 250580. 252678. 155000. 192000.  85500. 280000. 259000. 193500. 301000.\n",
      " 128200.  85000. 152000. 127500. 108000. 377500. 142500. 100000. 237000.\n",
      " 310000. 192500.  86000. 181500. 180000. 114500. 133000. 190000. 212000.\n",
      " 186500. 310000. 125000. 290000.  94500. 199900. 176000. 127000. 132500.\n",
      " 239000. 162000. 146000. 369900. 278000.  88000.  98600. 120000. 181500.\n",
      " 193000. 169000. 139500. 173000. 183000. 185000. 224500. 147000. 127500.\n",
      " 159434. 142000. 140000. 155000. 132500. 135000. 135000. 221500. 175000.\n",
      " 149900. 137000.  95000. 229000. 134500.  58500. 152000. 228000. 108000.\n",
      " 241000. 180500. 360000. 217000. 149900. 158500. 125000.  78000. 185000.\n",
      "  79900. 100000. 236500. 158000. 142500. 189000. 212000. 297000. 170000.\n",
      " 142500. 166000. 125000. 239000. 190000. 119200.  95000. 268000. 129900.\n",
      " 250580. 127500. 625000. 135000. 109500. 287000. 222000. 226000. 192140.\n",
      " 165000.  66500. 145150. 200000. 165000. 185000. 129500. 212000. 250000.\n",
      " 297000. 275000. 189000. 104900. 225000. 229456. 155000.]\n",
      "0.7413416510890616\n"
     ]
    },
    {
     "name": "stderr",
     "output_type": "stream",
     "text": [
      "/Users/plutobot/anaconda3/lib/python3.7/site-packages/sklearn/utils/validation.py:578: DataConversionWarning: A column-vector y was passed when a 1d array was expected. Please change the shape of y to (n_samples, ), for example using ravel().\n",
      "  y = column_or_1d(y, warn=True)\n",
      "/Users/plutobot/anaconda3/lib/python3.7/site-packages/sklearn/utils/validation.py:578: DataConversionWarning: A column-vector y was passed when a 1d array was expected. Please change the shape of y to (n_samples, ), for example using ravel().\n",
      "  y = column_or_1d(y, warn=True)\n",
      "/Users/plutobot/anaconda3/lib/python3.7/site-packages/sklearn/utils/validation.py:578: DataConversionWarning: A column-vector y was passed when a 1d array was expected. Please change the shape of y to (n_samples, ), for example using ravel().\n",
      "  y = column_or_1d(y, warn=True)\n",
      "/Users/plutobot/anaconda3/lib/python3.7/site-packages/sklearn/utils/validation.py:578: DataConversionWarning: A column-vector y was passed when a 1d array was expected. Please change the shape of y to (n_samples, ), for example using ravel().\n",
      "  y = column_or_1d(y, warn=True)\n",
      "/Users/plutobot/anaconda3/lib/python3.7/site-packages/sklearn/utils/validation.py:578: DataConversionWarning: A column-vector y was passed when a 1d array was expected. Please change the shape of y to (n_samples, ), for example using ravel().\n",
      "  y = column_or_1d(y, warn=True)\n",
      "/Users/plutobot/anaconda3/lib/python3.7/site-packages/sklearn/utils/validation.py:578: DataConversionWarning: A column-vector y was passed when a 1d array was expected. Please change the shape of y to (n_samples, ), for example using ravel().\n",
      "  y = column_or_1d(y, warn=True)\n",
      "/Users/plutobot/anaconda3/lib/python3.7/site-packages/sklearn/utils/validation.py:578: DataConversionWarning: A column-vector y was passed when a 1d array was expected. Please change the shape of y to (n_samples, ), for example using ravel().\n",
      "  y = column_or_1d(y, warn=True)\n",
      "/Users/plutobot/anaconda3/lib/python3.7/site-packages/sklearn/utils/validation.py:578: DataConversionWarning: A column-vector y was passed when a 1d array was expected. Please change the shape of y to (n_samples, ), for example using ravel().\n",
      "  y = column_or_1d(y, warn=True)\n",
      "/Users/plutobot/anaconda3/lib/python3.7/site-packages/sklearn/utils/validation.py:578: DataConversionWarning: A column-vector y was passed when a 1d array was expected. Please change the shape of y to (n_samples, ), for example using ravel().\n",
      "  y = column_or_1d(y, warn=True)\n",
      "/Users/plutobot/anaconda3/lib/python3.7/site-packages/sklearn/utils/validation.py:578: DataConversionWarning: A column-vector y was passed when a 1d array was expected. Please change the shape of y to (n_samples, ), for example using ravel().\n",
      "  y = column_or_1d(y, warn=True)\n"
     ]
    },
    {
     "name": "stdout",
     "output_type": "stream",
     "text": [
      "   fit_time  score_time  test_score  train_score\n",
      "0  0.633667    0.005342    0.820313     0.999574\n",
      "1  0.774533    0.005455    0.869055     0.999592\n",
      "2  0.660694    0.006213    0.894590     0.999603\n",
      "3  0.579484    0.003923    0.832791     0.999587\n",
      "4  0.519622    0.003990    0.886538     0.999549\n",
      "5  0.534400    0.003999    0.847231     0.999567\n",
      "6  0.526039    0.003895    0.893239     0.999579\n",
      "7  0.538987    0.004702    0.839516     0.999522\n",
      "8  0.534766    0.003946    0.898554     0.999554\n",
      "9  0.566577    0.004569    0.841438     0.999557\n"
     ]
    },
    {
     "name": "stderr",
     "output_type": "stream",
     "text": [
      "/Users/plutobot/anaconda3/lib/python3.7/site-packages/sklearn/utils/deprecation.py:122: FutureWarning: You are accessing a training score ('train_score'), which will not be available by default any more in 0.21. If you need training scores, please set return_train_score=True\n",
      "  warnings.warn(*warn_args, **warn_kwargs)\n"
     ]
    }
   ],
   "source": [
    "# Decision Trees\n",
    "\n",
    "X1=HouseTrain6[['LotArea','FstFlrSF','BsmtUnfSF','TotalBsmtSF','GrLivArea','GarageArea','BsmtFinSF1','OpenPorchSF','LotFrontage','SndFlrSF','WoodDeckSF','MasVnrArea','Neighborhood','MSSubClass',\n",
    "               'OverallQual','TotRmsAbvGrd','Exterior2nd','Exterior1st','EnclosedPorch']]\n",
    "Y1=HouseTrain6[['SalePrice']]\n",
    "test_size=0.33\n",
    "\n",
    "seed =7\n",
    "# split the dataset\n",
    "X_train, X_test, Y_train,Y_test=train_test_split(X1,Y1,test_size=test_size,random_state=seed)\n",
    "print(model3.fit(X_train, Y_train))\n",
    "print(model3.predict(X_test))\n",
    "print(model3.score(X_test,Y_test))\n",
    "print(pd.DataFrame(cross_validate(model1, X1, Y1, cv=10)))"
   ]
  },
  {
   "cell_type": "code",
   "execution_count": null,
   "metadata": {},
   "outputs": [],
   "source": []
  }
 ],
 "metadata": {
  "kernelspec": {
   "display_name": "Python 3",
   "language": "python",
   "name": "python3"
  },
  "language_info": {
   "codemirror_mode": {
    "name": "ipython",
    "version": 3
   },
   "file_extension": ".py",
   "mimetype": "text/x-python",
   "name": "python",
   "nbconvert_exporter": "python",
   "pygments_lexer": "ipython3",
   "version": "3.7.0"
  }
 },
 "nbformat": 4,
 "nbformat_minor": 2
}
